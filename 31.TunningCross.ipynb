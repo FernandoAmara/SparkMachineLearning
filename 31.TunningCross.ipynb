{
 "cells": [
  {
   "cell_type": "markdown",
   "id": "3d325ec4-6620-4a20-bc05-83fdf78de9ab",
   "metadata": {},
   "source": [
    "##### Fernando Amaral\n",
    "##### CrossValidator"
   ]
  },
  {
   "cell_type": "code",
   "execution_count": null,
   "id": "c1d009cc-8596-4de1-b3b8-93fe0a700bf7",
   "metadata": {},
   "outputs": [],
   "source": [
    "# Tunning + Pipeline Com CrossValidation\n"
   ]
  },
  {
   "cell_type": "code",
   "execution_count": 1,
   "id": "2be02f70",
   "metadata": {},
   "outputs": [],
   "source": [
    "#findspark para o notebook encontrar o Spark, deve ser instalado\n",
    "import findspark\n",
    "findspark.init()\n",
    "import pyspark\n",
    "from pyspark.sql import SparkSession\n",
    "spark = SparkSession.builder.appName(\"tunningcross\").getOrCreate()"
   ]
  },
  {
   "cell_type": "code",
   "execution_count": 2,
   "id": "732a6945",
   "metadata": {},
   "outputs": [],
   "source": [
    "#inferschema determina que o schema seja descoberto pelo spark\n",
    "iris = spark.read.csv(\"iris.csv\", header=True, inferSchema=True, sep=\",\")\n",
    "#divisão dos dados em treino e teste\n",
    "irisTreino, irisTeste = iris.randomSplit([0.7,0.3])"
   ]
  },
  {
   "cell_type": "code",
   "execution_count": 3,
   "id": "24580033",
   "metadata": {},
   "outputs": [],
   "source": [
    "#vetorização: nesta etapa criamos um atributos (coluna) que contém\n",
    "#todas as variáveis independentes que queremos usar no modelo\n",
    "from pyspark.ml.feature import VectorAssembler\n",
    "vector = VectorAssembler(inputCols=[\"sepallength\",\"sepalwidth\",\"petallength\",\n",
    "                                    \"petalwidth\"],outputCol=\"independente\" )"
   ]
  },
  {
   "cell_type": "code",
   "execution_count": 4,
   "id": "bdfb53d0",
   "metadata": {},
   "outputs": [],
   "source": [
    "#Indexação da Classe: de categoria para número\n",
    "from pyspark.ml.feature import StringIndexer\n",
    "indexer = StringIndexer(inputCol=\"class\", outputCol=\"label\")"
   ]
  },
  {
   "cell_type": "code",
   "execution_count": 5,
   "id": "2b3a0138",
   "metadata": {},
   "outputs": [],
   "source": [
    "#vamos criar uma RNA, os hiper parâmetros maxiter e layers vamos \n",
    "#utilizar no tunning \n",
    "from pyspark.ml.classification import MultilayerPerceptronClassifier\n",
    "mlp = MultilayerPerceptronClassifier(maxIter=100, \n",
    "                                     layers=[4,5,4,3], featuresCol=\"independente\", labelCol=\"label\")"
   ]
  },
  {
   "cell_type": "code",
   "execution_count": 6,
   "id": "37cc7709",
   "metadata": {},
   "outputs": [],
   "source": [
    "#pipeline: etapas que serão executadas no nosso processo\n",
    "#usamos o nome dos objetos (variáveis) na sequência de execução\n",
    "# vetorização, indexaçao e o modelo \n",
    "from pyspark.ml import Pipeline\n",
    "pipeline = Pipeline(stages=[vector, indexer, mlp])"
   ]
  },
  {
   "cell_type": "code",
   "execution_count": 9,
   "id": "12d6089b",
   "metadata": {},
   "outputs": [],
   "source": [
    "#CrossValidator é a classe de tunning\n",
    "#ParamGridBuilder usamos para contruir uma matriz com os hiper parâmetros a serem testados\n",
    "from pyspark.ml.tuning import CrossValidator, ParamGridBuilder\n",
    "#precisamos de uma métrica para que CrossValidator avalie o melhor modelo\n",
    "from pyspark.ml.evaluation import MulticlassClassificationEvaluator\n",
    "\n",
    "#criamos o objeto  MulticlassClassificationEvaluator para avaliar a performance\n",
    "performance = MulticlassClassificationEvaluator(labelCol=\"label\", metricName=\"accuracy\")\n",
    "\n",
    "# Construimos o grid com os hiper parametros que queremos testar\n",
    "# por exemplo, mlp.maxIter,[10,100,1000], quer dizer que do objeto mlp, hiper parametros maxIter\n",
    "# queremos testar 10,100 e 1000\n",
    "grid = ParamGridBuilder().addGrid(mlp.maxIter,[10,100,1000]).addGrid(mlp.layers,[[4,5,4,3],[4,4,3]]).build()\n",
    "\n",
    "# criamos o crossvalidotor com todos os parametros, isso ainda não executa, apenas cria a instância\n",
    "crossval = CrossValidator(estimator=pipeline,estimatorParamMaps=grid,evaluator=performance,numFolds=3)"
   ]
  },
  {
   "cell_type": "code",
   "execution_count": 10,
   "id": "f0094243",
   "metadata": {},
   "outputs": [],
   "source": [
    "#execução, neste momento executa o pipeline a busca o melhor modelo\n",
    "modelo = crossval.fit(irisTreino)"
   ]
  },
  {
   "cell_type": "code",
   "execution_count": 11,
   "id": "2887af6d",
   "metadata": {},
   "outputs": [
    {
     "name": "stdout",
     "output_type": "stream",
     "text": [
      "+--------------------+--------------------+----------+\n",
      "|       rawprediction|         probability|prediction|\n",
      "+--------------------+--------------------+----------+\n",
      "|[-65.012837093793...|[2.56470034230802...|       2.0|\n",
      "|[-65.012837093792...|[2.56470034230925...|       2.0|\n",
      "|[-65.012837093792...|[2.56470034230889...|       2.0|\n",
      "|[-65.012837093792...|[2.56470034230889...|       2.0|\n",
      "|[-65.012837093792...|[2.56470034230860...|       2.0|\n",
      "|[-65.012837093792...|[2.56470034230860...|       2.0|\n",
      "|[-65.012837093793...|[2.56470034230831...|       2.0|\n",
      "|[-65.012837093792...|[2.56470034230947...|       2.0|\n",
      "|[-65.012837093792...|[2.56470034230925...|       2.0|\n",
      "|[-65.012837093792...|[2.56470034230925...|       2.0|\n",
      "|[-65.012837093792...|[2.56470034230925...|       2.0|\n",
      "|[-65.012837093792...|[2.56470034230925...|       2.0|\n",
      "|[-65.012837093792...|[2.56470034230918...|       2.0|\n",
      "|[-7.1440309466339...|[1.21456141799657...|       1.0|\n",
      "|[-65.012837093792...|[2.56470034230925...|       2.0|\n",
      "|[-65.012837093792...|[2.56470034230925...|       2.0|\n",
      "|[-65.012837093792...|[2.56470034230904...|       2.0|\n",
      "|[-7.1506368381564...|[1.21003110322716...|       1.0|\n",
      "|[-65.012837093792...|[2.56470034230925...|       2.0|\n",
      "|[-7.1505913937956...|[1.21006169395469...|       1.0|\n",
      "+--------------------+--------------------+----------+\n",
      "only showing top 20 rows\n",
      "\n"
     ]
    }
   ],
   "source": [
    "# faz a previsão usando o melhor modelo\n",
    "previsao = modelo.transform(irisTeste)\n",
    "# exibe a previsão, além de prediction cria rawprediction e probability\n",
    "previsao.select(\"rawprediction\",\"probability\",\"prediction\").show()"
   ]
  },
  {
   "cell_type": "code",
   "execution_count": 12,
   "id": "a9a3df74",
   "metadata": {},
   "outputs": [
    {
     "name": "stdout",
     "output_type": "stream",
     "text": [
      "0.9782608695652174\n"
     ]
    }
   ],
   "source": [
    "# avaliamos a performance do melhor modelo usando os dados de teste\n",
    "performance = MulticlassClassificationEvaluator(labelCol=\"label\", predictionCol=\"prediction\", metricName=\"accuracy\")\n",
    "acuracia = performance.evaluate(previsao)\n",
    "print(acuracia)"
   ]
  },
  {
   "cell_type": "code",
   "execution_count": null,
   "id": "a9431e4c",
   "metadata": {},
   "outputs": [],
   "source": []
  }
 ],
 "metadata": {
  "kernelspec": {
   "display_name": "Python 3",
   "language": "python",
   "name": "python3"
  },
  "language_info": {
   "codemirror_mode": {
    "name": "ipython",
    "version": 3
   },
   "file_extension": ".py",
   "mimetype": "text/x-python",
   "name": "python",
   "nbconvert_exporter": "python",
   "pygments_lexer": "ipython3",
   "version": "3.8.8"
  }
 },
 "nbformat": 4,
 "nbformat_minor": 5
}
