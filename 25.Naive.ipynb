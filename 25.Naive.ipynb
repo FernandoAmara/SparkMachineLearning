{
 "cells": [
  {
   "cell_type": "markdown",
   "id": "6199a773-d6ae-4632-9b9f-eca4108f0740",
   "metadata": {},
   "source": [
    "##### Fernando Amaral\n",
    "##### NaiveBayes"
   ]
  },
  {
   "cell_type": "code",
   "execution_count": null,
   "id": "75ce67f9-f4a1-4aee-b526-50b3e4432968",
   "metadata": {},
   "outputs": [],
   "source": [
    "# NaiveBayes example"
   ]
  },
  {
   "cell_type": "code",
   "execution_count": 1,
   "id": "f4b4f73a",
   "metadata": {},
   "outputs": [],
   "source": [
    "import findspark, pyspark\n",
    "from pyspark.sql import SparkSession\n",
    "findspark.init()\n",
    "spark = SparkSession.builder.appName(\"naive\").getOrCreate()"
   ]
  },
  {
   "cell_type": "code",
   "execution_count": 2,
   "id": "d709c68e",
   "metadata": {},
   "outputs": [
    {
     "name": "stdout",
     "output_type": "stream",
     "text": [
      "150\n",
      "+-----------+----------+-----------+----------+-----------+\n",
      "|sepallength|sepalwidth|petallength|petalwidth|      class|\n",
      "+-----------+----------+-----------+----------+-----------+\n",
      "|        5.1|       3.5|        1.4|       0.2|Iris-setosa|\n",
      "|        4.9|       3.0|        1.4|       0.2|Iris-setosa|\n",
      "|        4.7|       3.2|        1.3|       0.2|Iris-setosa|\n",
      "|        4.6|       3.1|        1.5|       0.2|Iris-setosa|\n",
      "|        5.0|       3.6|        1.4|       0.2|Iris-setosa|\n",
      "+-----------+----------+-----------+----------+-----------+\n",
      "only showing top 5 rows\n",
      "\n"
     ]
    }
   ],
   "source": [
    "iris = spark.read.csv(\"iris.csv\", header=True, inferSchema=True, sep=\",\")\n",
    "print(iris.count())\n",
    "iris.show(5)"
   ]
  },
  {
   "cell_type": "code",
   "execution_count": 3,
   "id": "5840bc82",
   "metadata": {},
   "outputs": [
    {
     "name": "stdout",
     "output_type": "stream",
     "text": [
      "+-----------------+----------+\n",
      "|     independente|dependente|\n",
      "+-----------------+----------+\n",
      "|[5.1,3.5,1.4,0.2]|       0.0|\n",
      "|[4.9,3.0,1.4,0.2]|       0.0|\n",
      "|[4.7,3.2,1.3,0.2]|       0.0|\n",
      "|[4.6,3.1,1.5,0.2]|       0.0|\n",
      "|[5.0,3.6,1.4,0.2]|       0.0|\n",
      "+-----------------+----------+\n",
      "only showing top 5 rows\n",
      "\n"
     ]
    }
   ],
   "source": [
    "# we need a column with the features vectorized\n",
    "from pyspark.ml.feature import RFormula\n",
    "Rformula = RFormula(formula=\"class ~ .\", featuresCol=\"independente\", labelCol=\"dependente\")\n",
    "irisrf = Rformula.fit(iris).transform(iris)\n",
    "irisrf.select(\"independente\",\"dependente\").show(5)"
   ]
  },
  {
   "cell_type": "code",
   "execution_count": 4,
   "id": "6035c5f5",
   "metadata": {},
   "outputs": [
    {
     "name": "stdout",
     "output_type": "stream",
     "text": [
      "110\n",
      "40\n"
     ]
    }
   ],
   "source": [
    "# train test split \n",
    "irisTreino, irisTeste = irisrf.randomSplit([0.7,0.3])\n",
    "print(irisTreino.count())\n",
    "print(irisTeste.count())"
   ]
  },
  {
   "cell_type": "code",
   "execution_count": 5,
   "id": "131d17f3",
   "metadata": {},
   "outputs": [],
   "source": [
    "# model fit\n",
    "from pyspark.ml.classification import NaiveBayes\n",
    "naive = NaiveBayes(smoothing=1.0, modelType=\"multinomial\", featuresCol=\"independente\", labelCol=\"dependente\")\n",
    "modelo = naive.fit(irisTreino)"
   ]
  },
  {
   "cell_type": "code",
   "execution_count": 6,
   "id": "e416fb0e",
   "metadata": {},
   "outputs": [
    {
     "name": "stdout",
     "output_type": "stream",
     "text": [
      "+----------+----------+\n",
      "|dependente|prediction|\n",
      "+----------+----------+\n",
      "|       0.0|       0.0|\n",
      "|       0.0|       0.0|\n",
      "|       0.0|       0.0|\n",
      "|       0.0|       0.0|\n",
      "|       2.0|       1.0|\n",
      "|       0.0|       0.0|\n",
      "|       0.0|       0.0|\n",
      "|       1.0|       1.0|\n",
      "|       0.0|       0.0|\n",
      "|       0.0|       0.0|\n",
      "|       0.0|       0.0|\n",
      "|       1.0|       1.0|\n",
      "|       0.0|       0.0|\n",
      "|       0.0|       0.0|\n",
      "|       1.0|       1.0|\n",
      "|       0.0|       0.0|\n",
      "|       1.0|       1.0|\n",
      "|       2.0|       2.0|\n",
      "|       0.0|       0.0|\n",
      "|       2.0|       1.0|\n",
      "+----------+----------+\n",
      "only showing top 20 rows\n",
      "\n"
     ]
    }
   ],
   "source": [
    "# predict\n",
    "previsao = modelo.transform(irisTeste)\n",
    "previsao.select(\"dependente\",\"prediction\").show(20)"
   ]
  },
  {
   "cell_type": "code",
   "execution_count": 8,
   "id": "9af536fd",
   "metadata": {},
   "outputs": [
    {
     "name": "stdout",
     "output_type": "stream",
     "text": [
      "0.75\n"
     ]
    }
   ],
   "source": [
    "# evaluate\n",
    "from pyspark.ml.evaluation import MulticlassClassificationEvaluator\n",
    "performance = MulticlassClassificationEvaluator(labelCol=\"dependente\", predictionCol=\"prediction\",\n",
    "                                               metricName=\"accuracy\")\n",
    "acuracia = performance.evaluate(previsao)\n",
    "print(acuracia)"
   ]
  },
  {
   "cell_type": "code",
   "execution_count": null,
   "id": "f1d56a5b",
   "metadata": {},
   "outputs": [],
   "source": []
  }
 ],
 "metadata": {
  "kernelspec": {
   "display_name": "Python 3",
   "language": "python",
   "name": "python3"
  },
  "language_info": {
   "codemirror_mode": {
    "name": "ipython",
    "version": 3
   },
   "file_extension": ".py",
   "mimetype": "text/x-python",
   "name": "python",
   "nbconvert_exporter": "python",
   "pygments_lexer": "ipython3",
   "version": "3.8.8"
  }
 },
 "nbformat": 4,
 "nbformat_minor": 5
}
