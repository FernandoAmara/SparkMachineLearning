{
 "cells": [
  {
   "cell_type": "markdown",
   "id": "de057a65-7f0a-4975-8bbe-7f0c3c0ec337",
   "metadata": {},
   "source": [
    "##### Fernando Amaral\n",
    "##### BisectingKMeans"
   ]
  },
  {
   "cell_type": "code",
   "execution_count": null,
   "id": "f7080319-f06f-4673-a157-fd3585f14b0a",
   "metadata": {},
   "outputs": [],
   "source": [
    "# hierarchical cluster"
   ]
  },
  {
   "cell_type": "code",
   "execution_count": 1,
   "id": "f624550f",
   "metadata": {},
   "outputs": [],
   "source": [
    "import findspark, pyspark\n",
    "from pyspark.sql import SparkSession\n",
    "findspark.init()\n",
    "spark = SparkSession.builder.appName(\"hierarchical\").getOrCreate()"
   ]
  },
  {
   "cell_type": "code",
   "execution_count": 2,
   "id": "0f20e516",
   "metadata": {},
   "outputs": [],
   "source": [
    "iris = spark.read.csv(\"iris.csv\", header=True, inferSchema=True, sep=\",\")"
   ]
  },
  {
   "cell_type": "code",
   "execution_count": 4,
   "id": "4c8a8cb0",
   "metadata": {},
   "outputs": [],
   "source": [
    "from pyspark.ml.clustering import BisectingKMeans"
   ]
  },
  {
   "cell_type": "code",
   "execution_count": 5,
   "id": "5796cab6",
   "metadata": {},
   "outputs": [
    {
     "name": "stdout",
     "output_type": "stream",
     "text": [
      "+-----------+----------+-----------+----------+-----------+-----------------+\n",
      "|sepallength|sepalwidth|petallength|petalwidth|      class|         features|\n",
      "+-----------+----------+-----------+----------+-----------+-----------------+\n",
      "|        5.1|       3.5|        1.4|       0.2|Iris-setosa|[5.1,3.5,1.4,0.2]|\n",
      "|        4.9|       3.0|        1.4|       0.2|Iris-setosa|[4.9,3.0,1.4,0.2]|\n",
      "|        4.7|       3.2|        1.3|       0.2|Iris-setosa|[4.7,3.2,1.3,0.2]|\n",
      "|        4.6|       3.1|        1.5|       0.2|Iris-setosa|[4.6,3.1,1.5,0.2]|\n",
      "|        5.0|       3.6|        1.4|       0.2|Iris-setosa|[5.0,3.6,1.4,0.2]|\n",
      "+-----------+----------+-----------+----------+-----------+-----------------+\n",
      "only showing top 5 rows\n",
      "\n"
     ]
    }
   ],
   "source": [
    "# we need a column with the features vectorized\n",
    "from pyspark.ml.feature import VectorAssembler\n",
    "asb = VectorAssembler(inputCols=[\"sepallength\",\"sepalwidth\",\"petallength\",\"petalwidth\"], outputCol=\"features\")\n",
    "irisas = asb.transform(iris)\n",
    "irisas.show(5)"
   ]
  },
  {
   "cell_type": "code",
   "execution_count": 6,
   "id": "69c9583d",
   "metadata": {},
   "outputs": [],
   "source": [
    "# create and fit\n",
    "bkm = BisectingKMeans(featuresCol=\"features\", predictionCol=\"cluster\", k=3)\n",
    "model = bkm.fit(irisas)"
   ]
  },
  {
   "cell_type": "code",
   "execution_count": 9,
   "id": "337997fa",
   "metadata": {},
   "outputs": [
    {
     "name": "stdout",
     "output_type": "stream",
     "text": [
      "+-----------+----------+-----------+----------+---------------+-----------------+-------+\n",
      "|sepallength|sepalwidth|petallength|petalwidth|          class|         features|cluster|\n",
      "+-----------+----------+-----------+----------+---------------+-----------------+-------+\n",
      "|        5.1|       3.5|        1.4|       0.2|    Iris-setosa|[5.1,3.5,1.4,0.2]|      0|\n",
      "|        4.9|       3.0|        1.4|       0.2|    Iris-setosa|[4.9,3.0,1.4,0.2]|      0|\n",
      "|        4.7|       3.2|        1.3|       0.2|    Iris-setosa|[4.7,3.2,1.3,0.2]|      0|\n",
      "|        4.6|       3.1|        1.5|       0.2|    Iris-setosa|[4.6,3.1,1.5,0.2]|      0|\n",
      "|        5.0|       3.6|        1.4|       0.2|    Iris-setosa|[5.0,3.6,1.4,0.2]|      0|\n",
      "|        5.4|       3.9|        1.7|       0.4|    Iris-setosa|[5.4,3.9,1.7,0.4]|      0|\n",
      "|        4.6|       3.4|        1.4|       0.3|    Iris-setosa|[4.6,3.4,1.4,0.3]|      0|\n",
      "|        5.0|       3.4|        1.5|       0.2|    Iris-setosa|[5.0,3.4,1.5,0.2]|      0|\n",
      "|        4.4|       2.9|        1.4|       0.2|    Iris-setosa|[4.4,2.9,1.4,0.2]|      0|\n",
      "|        4.9|       3.1|        1.5|       0.1|    Iris-setosa|[4.9,3.1,1.5,0.1]|      0|\n",
      "|        5.4|       3.7|        1.5|       0.2|    Iris-setosa|[5.4,3.7,1.5,0.2]|      0|\n",
      "|        4.8|       3.4|        1.6|       0.2|    Iris-setosa|[4.8,3.4,1.6,0.2]|      0|\n",
      "|        4.8|       3.0|        1.4|       0.1|    Iris-setosa|[4.8,3.0,1.4,0.1]|      0|\n",
      "|        4.3|       3.0|        1.1|       0.1|    Iris-setosa|[4.3,3.0,1.1,0.1]|      0|\n",
      "|        5.8|       4.0|        1.2|       0.2|    Iris-setosa|[5.8,4.0,1.2,0.2]|      0|\n",
      "|        5.7|       4.4|        1.5|       0.4|    Iris-setosa|[5.7,4.4,1.5,0.4]|      0|\n",
      "|        5.4|       3.9|        1.3|       0.4|    Iris-setosa|[5.4,3.9,1.3,0.4]|      0|\n",
      "|        5.1|       3.5|        1.4|       0.3|    Iris-setosa|[5.1,3.5,1.4,0.3]|      0|\n",
      "|        5.7|       3.8|        1.7|       0.3|    Iris-setosa|[5.7,3.8,1.7,0.3]|      0|\n",
      "|        5.1|       3.8|        1.5|       0.3|    Iris-setosa|[5.1,3.8,1.5,0.3]|      0|\n",
      "|        5.4|       3.4|        1.7|       0.2|    Iris-setosa|[5.4,3.4,1.7,0.2]|      0|\n",
      "|        5.1|       3.7|        1.5|       0.4|    Iris-setosa|[5.1,3.7,1.5,0.4]|      0|\n",
      "|        4.6|       3.6|        1.0|       0.2|    Iris-setosa|[4.6,3.6,1.0,0.2]|      0|\n",
      "|        5.1|       3.3|        1.7|       0.5|    Iris-setosa|[5.1,3.3,1.7,0.5]|      0|\n",
      "|        4.8|       3.4|        1.9|       0.2|    Iris-setosa|[4.8,3.4,1.9,0.2]|      0|\n",
      "|        5.0|       3.0|        1.6|       0.2|    Iris-setosa|[5.0,3.0,1.6,0.2]|      0|\n",
      "|        5.0|       3.4|        1.6|       0.4|    Iris-setosa|[5.0,3.4,1.6,0.4]|      0|\n",
      "|        5.2|       3.5|        1.5|       0.2|    Iris-setosa|[5.2,3.5,1.5,0.2]|      0|\n",
      "|        5.2|       3.4|        1.4|       0.2|    Iris-setosa|[5.2,3.4,1.4,0.2]|      0|\n",
      "|        4.7|       3.2|        1.6|       0.2|    Iris-setosa|[4.7,3.2,1.6,0.2]|      0|\n",
      "|        4.8|       3.1|        1.6|       0.2|    Iris-setosa|[4.8,3.1,1.6,0.2]|      0|\n",
      "|        5.4|       3.4|        1.5|       0.4|    Iris-setosa|[5.4,3.4,1.5,0.4]|      0|\n",
      "|        5.2|       4.1|        1.5|       0.1|    Iris-setosa|[5.2,4.1,1.5,0.1]|      0|\n",
      "|        5.5|       4.2|        1.4|       0.2|    Iris-setosa|[5.5,4.2,1.4,0.2]|      0|\n",
      "|        4.9|       3.1|        1.5|       0.1|    Iris-setosa|[4.9,3.1,1.5,0.1]|      0|\n",
      "|        5.0|       3.2|        1.2|       0.2|    Iris-setosa|[5.0,3.2,1.2,0.2]|      0|\n",
      "|        5.5|       3.5|        1.3|       0.2|    Iris-setosa|[5.5,3.5,1.3,0.2]|      0|\n",
      "|        4.9|       3.1|        1.5|       0.1|    Iris-setosa|[4.9,3.1,1.5,0.1]|      0|\n",
      "|        4.4|       3.0|        1.3|       0.2|    Iris-setosa|[4.4,3.0,1.3,0.2]|      0|\n",
      "|        5.1|       3.4|        1.5|       0.2|    Iris-setosa|[5.1,3.4,1.5,0.2]|      0|\n",
      "|        5.0|       3.5|        1.3|       0.3|    Iris-setosa|[5.0,3.5,1.3,0.3]|      0|\n",
      "|        4.5|       2.3|        1.3|       0.3|    Iris-setosa|[4.5,2.3,1.3,0.3]|      0|\n",
      "|        4.4|       3.2|        1.3|       0.2|    Iris-setosa|[4.4,3.2,1.3,0.2]|      0|\n",
      "|        5.0|       3.5|        1.6|       0.6|    Iris-setosa|[5.0,3.5,1.6,0.6]|      0|\n",
      "|        5.1|       3.8|        1.9|       0.4|    Iris-setosa|[5.1,3.8,1.9,0.4]|      0|\n",
      "|        4.8|       3.0|        1.4|       0.3|    Iris-setosa|[4.8,3.0,1.4,0.3]|      0|\n",
      "|        5.1|       3.8|        1.6|       0.2|    Iris-setosa|[5.1,3.8,1.6,0.2]|      0|\n",
      "|        4.6|       3.2|        1.4|       0.2|    Iris-setosa|[4.6,3.2,1.4,0.2]|      0|\n",
      "|        5.3|       3.7|        1.5|       0.2|    Iris-setosa|[5.3,3.7,1.5,0.2]|      0|\n",
      "|        5.0|       3.3|        1.4|       0.2|    Iris-setosa|[5.0,3.3,1.4,0.2]|      0|\n",
      "|        7.0|       3.2|        4.7|       1.4|Iris-versicolor|[7.0,3.2,4.7,1.4]|      1|\n",
      "|        6.4|       3.2|        4.5|       1.5|Iris-versicolor|[6.4,3.2,4.5,1.5]|      1|\n",
      "|        6.9|       3.1|        4.9|       1.5|Iris-versicolor|[6.9,3.1,4.9,1.5]|      2|\n",
      "|        5.5|       2.3|        4.0|       1.3|Iris-versicolor|[5.5,2.3,4.0,1.3]|      1|\n",
      "|        6.5|       2.8|        4.6|       1.5|Iris-versicolor|[6.5,2.8,4.6,1.5]|      1|\n",
      "|        5.7|       2.8|        4.5|       1.3|Iris-versicolor|[5.7,2.8,4.5,1.3]|      1|\n",
      "|        6.3|       3.3|        4.7|       1.6|Iris-versicolor|[6.3,3.3,4.7,1.6]|      1|\n",
      "|        4.9|       2.4|        3.3|       1.0|Iris-versicolor|[4.9,2.4,3.3,1.0]|      0|\n",
      "|        6.6|       2.9|        4.6|       1.3|Iris-versicolor|[6.6,2.9,4.6,1.3]|      1|\n",
      "|        5.2|       2.7|        3.9|       1.4|Iris-versicolor|[5.2,2.7,3.9,1.4]|      1|\n",
      "|        5.0|       2.0|        3.5|       1.0|Iris-versicolor|[5.0,2.0,3.5,1.0]|      1|\n",
      "|        5.9|       3.0|        4.2|       1.5|Iris-versicolor|[5.9,3.0,4.2,1.5]|      1|\n",
      "|        6.0|       2.2|        4.0|       1.0|Iris-versicolor|[6.0,2.2,4.0,1.0]|      1|\n",
      "|        6.1|       2.9|        4.7|       1.4|Iris-versicolor|[6.1,2.9,4.7,1.4]|      1|\n",
      "|        5.6|       2.9|        3.6|       1.3|Iris-versicolor|[5.6,2.9,3.6,1.3]|      1|\n",
      "|        6.7|       3.1|        4.4|       1.4|Iris-versicolor|[6.7,3.1,4.4,1.4]|      1|\n",
      "|        5.6|       3.0|        4.5|       1.5|Iris-versicolor|[5.6,3.0,4.5,1.5]|      1|\n",
      "|        5.8|       2.7|        4.1|       1.0|Iris-versicolor|[5.8,2.7,4.1,1.0]|      1|\n",
      "|        6.2|       2.2|        4.5|       1.5|Iris-versicolor|[6.2,2.2,4.5,1.5]|      1|\n",
      "|        5.6|       2.5|        3.9|       1.1|Iris-versicolor|[5.6,2.5,3.9,1.1]|      1|\n",
      "|        5.9|       3.2|        4.8|       1.8|Iris-versicolor|[5.9,3.2,4.8,1.8]|      1|\n",
      "|        6.1|       2.8|        4.0|       1.3|Iris-versicolor|[6.1,2.8,4.0,1.3]|      1|\n",
      "|        6.3|       2.5|        4.9|       1.5|Iris-versicolor|[6.3,2.5,4.9,1.5]|      1|\n",
      "|        6.1|       2.8|        4.7|       1.2|Iris-versicolor|[6.1,2.8,4.7,1.2]|      1|\n",
      "|        6.4|       2.9|        4.3|       1.3|Iris-versicolor|[6.4,2.9,4.3,1.3]|      1|\n",
      "|        6.6|       3.0|        4.4|       1.4|Iris-versicolor|[6.6,3.0,4.4,1.4]|      1|\n",
      "|        6.8|       2.8|        4.8|       1.4|Iris-versicolor|[6.8,2.8,4.8,1.4]|      1|\n",
      "|        6.7|       3.0|        5.0|       1.7|Iris-versicolor|[6.7,3.0,5.0,1.7]|      2|\n",
      "|        6.0|       2.9|        4.5|       1.5|Iris-versicolor|[6.0,2.9,4.5,1.5]|      1|\n",
      "|        5.7|       2.6|        3.5|       1.0|Iris-versicolor|[5.7,2.6,3.5,1.0]|      1|\n",
      "|        5.5|       2.4|        3.8|       1.1|Iris-versicolor|[5.5,2.4,3.8,1.1]|      1|\n",
      "|        5.5|       2.4|        3.7|       1.0|Iris-versicolor|[5.5,2.4,3.7,1.0]|      1|\n",
      "|        5.8|       2.7|        3.9|       1.2|Iris-versicolor|[5.8,2.7,3.9,1.2]|      1|\n",
      "|        6.0|       2.7|        5.1|       1.6|Iris-versicolor|[6.0,2.7,5.1,1.6]|      1|\n",
      "|        5.4|       3.0|        4.5|       1.5|Iris-versicolor|[5.4,3.0,4.5,1.5]|      1|\n",
      "|        6.0|       3.4|        4.5|       1.6|Iris-versicolor|[6.0,3.4,4.5,1.6]|      1|\n",
      "|        6.7|       3.1|        4.7|       1.5|Iris-versicolor|[6.7,3.1,4.7,1.5]|      1|\n",
      "|        6.3|       2.3|        4.4|       1.3|Iris-versicolor|[6.3,2.3,4.4,1.3]|      1|\n",
      "|        5.6|       3.0|        4.1|       1.3|Iris-versicolor|[5.6,3.0,4.1,1.3]|      1|\n",
      "|        5.5|       2.5|        4.0|       1.3|Iris-versicolor|[5.5,2.5,4.0,1.3]|      1|\n",
      "|        5.5|       2.6|        4.4|       1.2|Iris-versicolor|[5.5,2.6,4.4,1.2]|      1|\n",
      "|        6.1|       3.0|        4.6|       1.4|Iris-versicolor|[6.1,3.0,4.6,1.4]|      1|\n",
      "|        5.8|       2.6|        4.0|       1.2|Iris-versicolor|[5.8,2.6,4.0,1.2]|      1|\n",
      "|        5.0|       2.3|        3.3|       1.0|Iris-versicolor|[5.0,2.3,3.3,1.0]|      0|\n",
      "|        5.6|       2.7|        4.2|       1.3|Iris-versicolor|[5.6,2.7,4.2,1.3]|      1|\n",
      "|        5.7|       3.0|        4.2|       1.2|Iris-versicolor|[5.7,3.0,4.2,1.2]|      1|\n",
      "|        5.7|       2.9|        4.2|       1.3|Iris-versicolor|[5.7,2.9,4.2,1.3]|      1|\n",
      "|        6.2|       2.9|        4.3|       1.3|Iris-versicolor|[6.2,2.9,4.3,1.3]|      1|\n",
      "|        5.1|       2.5|        3.0|       1.1|Iris-versicolor|[5.1,2.5,3.0,1.1]|      0|\n",
      "|        5.7|       2.8|        4.1|       1.3|Iris-versicolor|[5.7,2.8,4.1,1.3]|      1|\n",
      "|        6.3|       3.3|        6.0|       2.5| Iris-virginica|[6.3,3.3,6.0,2.5]|      2|\n",
      "|        5.8|       2.7|        5.1|       1.9| Iris-virginica|[5.8,2.7,5.1,1.9]|      1|\n",
      "|        7.1|       3.0|        5.9|       2.1| Iris-virginica|[7.1,3.0,5.9,2.1]|      2|\n",
      "|        6.3|       2.9|        5.6|       1.8| Iris-virginica|[6.3,2.9,5.6,1.8]|      2|\n",
      "|        6.5|       3.0|        5.8|       2.2| Iris-virginica|[6.5,3.0,5.8,2.2]|      2|\n",
      "|        7.6|       3.0|        6.6|       2.1| Iris-virginica|[7.6,3.0,6.6,2.1]|      2|\n",
      "|        4.9|       2.5|        4.5|       1.7| Iris-virginica|[4.9,2.5,4.5,1.7]|      1|\n",
      "|        7.3|       2.9|        6.3|       1.8| Iris-virginica|[7.3,2.9,6.3,1.8]|      2|\n",
      "|        6.7|       2.5|        5.8|       1.8| Iris-virginica|[6.7,2.5,5.8,1.8]|      2|\n",
      "|        7.2|       3.6|        6.1|       2.5| Iris-virginica|[7.2,3.6,6.1,2.5]|      2|\n",
      "|        6.5|       3.2|        5.1|       2.0| Iris-virginica|[6.5,3.2,5.1,2.0]|      2|\n",
      "|        6.4|       2.7|        5.3|       1.9| Iris-virginica|[6.4,2.7,5.3,1.9]|      2|\n",
      "|        6.8|       3.0|        5.5|       2.1| Iris-virginica|[6.8,3.0,5.5,2.1]|      2|\n",
      "|        5.7|       2.5|        5.0|       2.0| Iris-virginica|[5.7,2.5,5.0,2.0]|      1|\n",
      "|        5.8|       2.8|        5.1|       2.4| Iris-virginica|[5.8,2.8,5.1,2.4]|      1|\n",
      "|        6.4|       3.2|        5.3|       2.3| Iris-virginica|[6.4,3.2,5.3,2.3]|      2|\n",
      "|        6.5|       3.0|        5.5|       1.8| Iris-virginica|[6.5,3.0,5.5,1.8]|      2|\n",
      "|        7.7|       3.8|        6.7|       2.2| Iris-virginica|[7.7,3.8,6.7,2.2]|      2|\n",
      "|        7.7|       2.6|        6.9|       2.3| Iris-virginica|[7.7,2.6,6.9,2.3]|      2|\n",
      "|        6.0|       2.2|        5.0|       1.5| Iris-virginica|[6.0,2.2,5.0,1.5]|      1|\n",
      "|        6.9|       3.2|        5.7|       2.3| Iris-virginica|[6.9,3.2,5.7,2.3]|      2|\n",
      "|        5.6|       2.8|        4.9|       2.0| Iris-virginica|[5.6,2.8,4.9,2.0]|      1|\n",
      "|        7.7|       2.8|        6.7|       2.0| Iris-virginica|[7.7,2.8,6.7,2.0]|      2|\n",
      "|        6.3|       2.7|        4.9|       1.8| Iris-virginica|[6.3,2.7,4.9,1.8]|      1|\n",
      "|        6.7|       3.3|        5.7|       2.1| Iris-virginica|[6.7,3.3,5.7,2.1]|      2|\n",
      "|        7.2|       3.2|        6.0|       1.8| Iris-virginica|[7.2,3.2,6.0,1.8]|      2|\n",
      "|        6.2|       2.8|        4.8|       1.8| Iris-virginica|[6.2,2.8,4.8,1.8]|      1|\n",
      "|        6.1|       3.0|        4.9|       1.8| Iris-virginica|[6.1,3.0,4.9,1.8]|      1|\n",
      "|        6.4|       2.8|        5.6|       2.1| Iris-virginica|[6.4,2.8,5.6,2.1]|      2|\n",
      "|        7.2|       3.0|        5.8|       1.6| Iris-virginica|[7.2,3.0,5.8,1.6]|      2|\n",
      "|        7.4|       2.8|        6.1|       1.9| Iris-virginica|[7.4,2.8,6.1,1.9]|      2|\n",
      "|        7.9|       3.8|        6.4|       2.0| Iris-virginica|[7.9,3.8,6.4,2.0]|      2|\n",
      "|        6.4|       2.8|        5.6|       2.2| Iris-virginica|[6.4,2.8,5.6,2.2]|      2|\n",
      "|        6.3|       2.8|        5.1|       1.5| Iris-virginica|[6.3,2.8,5.1,1.5]|      1|\n",
      "|        6.1|       2.6|        5.6|       1.4| Iris-virginica|[6.1,2.6,5.6,1.4]|      2|\n",
      "|        7.7|       3.0|        6.1|       2.3| Iris-virginica|[7.7,3.0,6.1,2.3]|      2|\n",
      "|        6.3|       3.4|        5.6|       2.4| Iris-virginica|[6.3,3.4,5.6,2.4]|      2|\n",
      "|        6.4|       3.1|        5.5|       1.8| Iris-virginica|[6.4,3.1,5.5,1.8]|      2|\n",
      "|        6.0|       3.0|        4.8|       1.8| Iris-virginica|[6.0,3.0,4.8,1.8]|      1|\n",
      "|        6.9|       3.1|        5.4|       2.1| Iris-virginica|[6.9,3.1,5.4,2.1]|      2|\n",
      "|        6.7|       3.1|        5.6|       2.4| Iris-virginica|[6.7,3.1,5.6,2.4]|      2|\n",
      "|        6.9|       3.1|        5.1|       2.3| Iris-virginica|[6.9,3.1,5.1,2.3]|      2|\n",
      "|        5.8|       2.7|        5.1|       1.9| Iris-virginica|[5.8,2.7,5.1,1.9]|      1|\n",
      "|        6.8|       3.2|        5.9|       2.3| Iris-virginica|[6.8,3.2,5.9,2.3]|      2|\n",
      "|        6.7|       3.3|        5.7|       2.5| Iris-virginica|[6.7,3.3,5.7,2.5]|      2|\n",
      "|        6.7|       3.0|        5.2|       2.3| Iris-virginica|[6.7,3.0,5.2,2.3]|      2|\n",
      "|        6.3|       2.5|        5.0|       1.9| Iris-virginica|[6.3,2.5,5.0,1.9]|      1|\n",
      "|        6.5|       3.0|        5.2|       2.0| Iris-virginica|[6.5,3.0,5.2,2.0]|      2|\n",
      "|        6.2|       3.4|        5.4|       2.3| Iris-virginica|[6.2,3.4,5.4,2.3]|      2|\n",
      "|        5.9|       3.0|        5.1|       1.8| Iris-virginica|[5.9,3.0,5.1,1.8]|      1|\n",
      "+-----------+----------+-----------+----------+---------------+-----------------+-------+\n",
      "\n"
     ]
    }
   ],
   "source": [
    "clusters = model.transform(irisas)\n",
    "clusters.show(150)"
   ]
  },
  {
   "cell_type": "code",
   "execution_count": 13,
   "id": "d4521873",
   "metadata": {},
   "outputs": [
    {
     "name": "stdout",
     "output_type": "stream",
     "text": [
      "0.7231544457999555\n"
     ]
    }
   ],
   "source": [
    "# evaluate cluster performance\n",
    "from pyspark.ml.evaluation import ClusteringEvaluator\n",
    "metrica = ClusteringEvaluator(predictionCol=\"cluster\")\n",
    "silhouette = metrica.evaluate(clusters)\n",
    "print(silhouette)"
   ]
  },
  {
   "cell_type": "code",
   "execution_count": null,
   "id": "d3615f2a",
   "metadata": {},
   "outputs": [],
   "source": []
  }
 ],
 "metadata": {
  "kernelspec": {
   "display_name": "Python 3",
   "language": "python",
   "name": "python3"
  },
  "language_info": {
   "codemirror_mode": {
    "name": "ipython",
    "version": 3
   },
   "file_extension": ".py",
   "mimetype": "text/x-python",
   "name": "python",
   "nbconvert_exporter": "python",
   "pygments_lexer": "ipython3",
   "version": "3.8.8"
  }
 },
 "nbformat": 4,
 "nbformat_minor": 5
}
