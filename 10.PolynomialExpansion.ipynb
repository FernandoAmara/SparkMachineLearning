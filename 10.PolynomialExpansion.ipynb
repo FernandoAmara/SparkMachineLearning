{
 "cells": [
  {
   "cell_type": "markdown",
   "id": "c8cffbaa-4079-46c0-8380-4baa5e39a258",
   "metadata": {},
   "source": [
    "##### Fernando Amaral\n",
    "##### PolynomialExpansion"
   ]
  },
  {
   "cell_type": "code",
   "execution_count": null,
   "id": "897432ed-5cdf-4676-b45a-3f8777a1b392",
   "metadata": {},
   "outputs": [],
   "source": [
    "# feature engineering\n",
    "# Expands a feature according to degree, creating new features"
   ]
  },
  {
   "cell_type": "code",
   "execution_count": 1,
   "id": "3e022037",
   "metadata": {},
   "outputs": [],
   "source": [
    "import findspark, pyspark\n",
    "from pyspark.sql import SparkSession\n",
    "findspark.init()\n",
    "spark = SparkSession.builder.appName(\"polynomialexpansion\").getOrCreate()"
   ]
  },
  {
   "cell_type": "code",
   "execution_count": 2,
   "id": "4e07962d",
   "metadata": {},
   "outputs": [],
   "source": [
    "from pyspark.ml.feature import PolynomialExpansion"
   ]
  },
  {
   "cell_type": "code",
   "execution_count": 3,
   "id": "b248566c",
   "metadata": {},
   "outputs": [
    {
     "name": "stdout",
     "output_type": "stream",
     "text": [
      "+-------+---------+-----------+---------------+----+-----+---------+-----------+-------+-----------+---+\n",
      "|Consumo|Cilindros|Cilindradas|RelEixoTraseiro|Peso|Tempo|TipoMotor|Transmissao|Marchas|Carburadors| HP|\n",
      "+-------+---------+-----------+---------------+----+-----+---------+-----------+-------+-----------+---+\n",
      "|     21|        6|        160|             39| 262| 1646|        0|          1|      4|          4|110|\n",
      "|     21|        6|        160|             39|2875| 1702|        0|          1|      4|          4|110|\n",
      "|    228|        4|        108|            385| 232| 1861|        1|          1|      4|          1| 93|\n",
      "|    214|        6|        258|            308|3215| 1944|        1|          0|      3|          1|110|\n",
      "|    187|        8|        360|            315| 344| 1702|        0|          0|      3|          2|175|\n",
      "+-------+---------+-----------+---------------+----+-----+---------+-----------+-------+-----------+---+\n",
      "only showing top 5 rows\n",
      "\n"
     ]
    }
   ],
   "source": [
    "carros = spark.read.csv(\"Carros.csv\", header=True, inferSchema=True, sep=\";\")\n",
    "carros.show(5)"
   ]
  },
  {
   "cell_type": "code",
   "execution_count": 5,
   "id": "648b3414",
   "metadata": {},
   "outputs": [
    {
     "name": "stdout",
     "output_type": "stream",
     "text": [
      "+-------+---------+-----------+------------------+\n",
      "|Consumo|Cilindros|Cilindradas|             vetor|\n",
      "+-------+---------+-----------+------------------+\n",
      "|     21|        6|        160|  [21.0,6.0,160.0]|\n",
      "|     21|        6|        160|  [21.0,6.0,160.0]|\n",
      "|    228|        4|        108| [228.0,4.0,108.0]|\n",
      "|    214|        6|        258| [214.0,6.0,258.0]|\n",
      "|    187|        8|        360| [187.0,8.0,360.0]|\n",
      "|    181|        6|        225| [181.0,6.0,225.0]|\n",
      "|    143|        8|        360| [143.0,8.0,360.0]|\n",
      "|    244|        4|       1467|[244.0,4.0,1467.0]|\n",
      "|    228|        4|       1408|[228.0,4.0,1408.0]|\n",
      "|    192|        6|       1676|[192.0,6.0,1676.0]|\n",
      "|    178|        6|       1676|[178.0,6.0,1676.0]|\n",
      "|    164|        8|       2758|[164.0,8.0,2758.0]|\n",
      "|    173|        8|       2758|[173.0,8.0,2758.0]|\n",
      "|    152|        8|       2758|[152.0,8.0,2758.0]|\n",
      "|    104|        8|        472| [104.0,8.0,472.0]|\n",
      "|    104|        8|        460| [104.0,8.0,460.0]|\n",
      "|    147|        8|        440| [147.0,8.0,440.0]|\n",
      "|    324|        4|        787| [324.0,4.0,787.0]|\n",
      "|    304|        4|        757| [304.0,4.0,757.0]|\n",
      "|    339|        4|        711| [339.0,4.0,711.0]|\n",
      "+-------+---------+-----------+------------------+\n",
      "only showing top 20 rows\n",
      "\n"
     ]
    }
   ],
   "source": [
    "# we need to create a column with the features as a vector : outputCol=\"vetor\"\n",
    "from pyspark.ml.feature import VectorAssembler\n",
    "vecassembler = VectorAssembler(inputCols=[\"Consumo\",\"Cilindros\",\"Cilindradas\"], outputCol=\"vetor\")\n",
    "carros_vetor = vecassembler.transform(carros)\n",
    "carros_vetor.select(\"Consumo\",\"Cilindros\",\"Cilindradas\",\"vetor\").show()"
   ]
  },
  {
   "cell_type": "code",
   "execution_count": 6,
   "id": "6108be05",
   "metadata": {},
   "outputs": [
    {
     "name": "stdout",
     "output_type": "stream",
     "text": [
      "+------------------+-----------------------------------------------------------------+\n",
      "|vetor             |vetorpolyfeatures                                                |\n",
      "+------------------+-----------------------------------------------------------------+\n",
      "|[21.0,6.0,160.0]  |[21.0,441.0,6.0,126.0,36.0,160.0,3360.0,960.0,25600.0]           |\n",
      "|[21.0,6.0,160.0]  |[21.0,441.0,6.0,126.0,36.0,160.0,3360.0,960.0,25600.0]           |\n",
      "|[228.0,4.0,108.0] |[228.0,51984.0,4.0,912.0,16.0,108.0,24624.0,432.0,11664.0]       |\n",
      "|[214.0,6.0,258.0] |[214.0,45796.0,6.0,1284.0,36.0,258.0,55212.0,1548.0,66564.0]     |\n",
      "|[187.0,8.0,360.0] |[187.0,34969.0,8.0,1496.0,64.0,360.0,67320.0,2880.0,129600.0]    |\n",
      "|[181.0,6.0,225.0] |[181.0,32761.0,6.0,1086.0,36.0,225.0,40725.0,1350.0,50625.0]     |\n",
      "|[143.0,8.0,360.0] |[143.0,20449.0,8.0,1144.0,64.0,360.0,51480.0,2880.0,129600.0]    |\n",
      "|[244.0,4.0,1467.0]|[244.0,59536.0,4.0,976.0,16.0,1467.0,357948.0,5868.0,2152089.0]  |\n",
      "|[228.0,4.0,1408.0]|[228.0,51984.0,4.0,912.0,16.0,1408.0,321024.0,5632.0,1982464.0]  |\n",
      "|[192.0,6.0,1676.0]|[192.0,36864.0,6.0,1152.0,36.0,1676.0,321792.0,10056.0,2808976.0]|\n",
      "|[178.0,6.0,1676.0]|[178.0,31684.0,6.0,1068.0,36.0,1676.0,298328.0,10056.0,2808976.0]|\n",
      "|[164.0,8.0,2758.0]|[164.0,26896.0,8.0,1312.0,64.0,2758.0,452312.0,22064.0,7606564.0]|\n",
      "|[173.0,8.0,2758.0]|[173.0,29929.0,8.0,1384.0,64.0,2758.0,477134.0,22064.0,7606564.0]|\n",
      "|[152.0,8.0,2758.0]|[152.0,23104.0,8.0,1216.0,64.0,2758.0,419216.0,22064.0,7606564.0]|\n",
      "|[104.0,8.0,472.0] |[104.0,10816.0,8.0,832.0,64.0,472.0,49088.0,3776.0,222784.0]     |\n",
      "|[104.0,8.0,460.0] |[104.0,10816.0,8.0,832.0,64.0,460.0,47840.0,3680.0,211600.0]     |\n",
      "|[147.0,8.0,440.0] |[147.0,21609.0,8.0,1176.0,64.0,440.0,64680.0,3520.0,193600.0]    |\n",
      "|[324.0,4.0,787.0] |[324.0,104976.0,4.0,1296.0,16.0,787.0,254988.0,3148.0,619369.0]  |\n",
      "|[304.0,4.0,757.0] |[304.0,92416.0,4.0,1216.0,16.0,757.0,230128.0,3028.0,573049.0]   |\n",
      "|[339.0,4.0,711.0] |[339.0,114921.0,4.0,1356.0,16.0,711.0,241029.0,2844.0,505521.0]  |\n",
      "+------------------+-----------------------------------------------------------------+\n",
      "only showing top 20 rows\n",
      "\n"
     ]
    }
   ],
   "source": [
    "# degree=2\n",
    "# the output is vetorpolyfeatures\n",
    "pe = PolynomialExpansion(degree=2, inputCol=\"vetor\", outputCol=\"vetorpolyfeatures\")\n",
    "carros_poly = pe.transform(carros_vetor)\n",
    "carros_poly.select(\"vetor\",\"vetorpolyfeatures\").show(truncate=False)"
   ]
  },
  {
   "cell_type": "code",
   "execution_count": null,
   "id": "eb45fb0b",
   "metadata": {},
   "outputs": [],
   "source": []
  }
 ],
 "metadata": {
  "kernelspec": {
   "display_name": "Python 3",
   "language": "python",
   "name": "python3"
  },
  "language_info": {
   "codemirror_mode": {
    "name": "ipython",
    "version": 3
   },
   "file_extension": ".py",
   "mimetype": "text/x-python",
   "name": "python",
   "nbconvert_exporter": "python",
   "pygments_lexer": "ipython3",
   "version": "3.8.8"
  }
 },
 "nbformat": 4,
 "nbformat_minor": 5
}
