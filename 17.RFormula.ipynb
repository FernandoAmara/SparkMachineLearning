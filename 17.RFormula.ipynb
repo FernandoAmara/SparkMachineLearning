{
 "cells": [
  {
   "cell_type": "markdown",
   "id": "ee5169fe-a139-4953-a527-0f89138a811e",
   "metadata": {},
   "source": [
    "##### Fernando Amaral\n",
    "##### RFormula"
   ]
  },
  {
   "cell_type": "code",
   "execution_count": null,
   "id": "11722553-1544-4d8f-86ee-b828dcf172ec",
   "metadata": {},
   "outputs": [],
   "source": [
    "# transform data using the R language Formula Concept\n",
    "# Numeric columns will be turned into double\n",
    "# Strings will be transformed with StringIndexer, and the last category is deleted and then apply One HotEncoding"
   ]
  },
  {
   "cell_type": "code",
   "execution_count": 1,
   "id": "697d1424",
   "metadata": {},
   "outputs": [],
   "source": [
    "import findspark, pyspark\n",
    "from pyspark.sql import SparkSession\n",
    "findspark.init()\n",
    "spark = SparkSession.builder.appName(\"rfomula\").getOrCreate()"
   ]
  },
  {
   "cell_type": "code",
   "execution_count": 2,
   "id": "b2ac556f",
   "metadata": {},
   "outputs": [],
   "source": [
    "from pyspark.ml.feature import RFormula"
   ]
  },
  {
   "cell_type": "code",
   "execution_count": 3,
   "id": "6fd1950c",
   "metadata": {},
   "outputs": [
    {
     "name": "stdout",
     "output_type": "stream",
     "text": [
      "+-------+---------+-----------+---------------+----+-----+---------+-----------+-------+-----------+---+\n",
      "|Consumo|Cilindros|Cilindradas|RelEixoTraseiro|Peso|Tempo|TipoMotor|Transmissao|Marchas|Carburadors| HP|\n",
      "+-------+---------+-----------+---------------+----+-----+---------+-----------+-------+-----------+---+\n",
      "|     21|        6|        160|             39| 262| 1646|        0|          1|      4|          4|110|\n",
      "|     21|        6|        160|             39|2875| 1702|        0|          1|      4|          4|110|\n",
      "|    228|        4|        108|            385| 232| 1861|        1|          1|      4|          1| 93|\n",
      "|    214|        6|        258|            308|3215| 1944|        1|          0|      3|          1|110|\n",
      "|    187|        8|        360|            315| 344| 1702|        0|          0|      3|          2|175|\n",
      "+-------+---------+-----------+---------------+----+-----+---------+-----------+-------+-----------+---+\n",
      "only showing top 5 rows\n",
      "\n"
     ]
    }
   ],
   "source": [
    "carros = spark.read.csv(\"Carros.csv\", header=True, inferSchema=True, sep=\";\")\n",
    "carros.show(5)"
   ]
  },
  {
   "cell_type": "code",
   "execution_count": 4,
   "id": "93fd67b2",
   "metadata": {},
   "outputs": [
    {
     "name": "stdout",
     "output_type": "stream",
     "text": [
      "+------------------+----------+\n",
      "|      independente|dependente|\n",
      "+------------------+----------+\n",
      "|  [21.0,6.0,160.0]|     110.0|\n",
      "|  [21.0,6.0,160.0]|     110.0|\n",
      "| [228.0,4.0,108.0]|      93.0|\n",
      "| [214.0,6.0,258.0]|     110.0|\n",
      "| [187.0,8.0,360.0]|     175.0|\n",
      "| [181.0,6.0,225.0]|     105.0|\n",
      "| [143.0,8.0,360.0]|     245.0|\n",
      "|[244.0,4.0,1467.0]|      62.0|\n",
      "|[228.0,4.0,1408.0]|      95.0|\n",
      "|[192.0,6.0,1676.0]|     123.0|\n",
      "|[178.0,6.0,1676.0]|     123.0|\n",
      "|[164.0,8.0,2758.0]|     180.0|\n",
      "|[173.0,8.0,2758.0]|     180.0|\n",
      "|[152.0,8.0,2758.0]|     180.0|\n",
      "| [104.0,8.0,472.0]|     205.0|\n",
      "| [104.0,8.0,460.0]|     215.0|\n",
      "| [147.0,8.0,440.0]|     230.0|\n",
      "| [324.0,4.0,787.0]|      66.0|\n",
      "| [304.0,4.0,757.0]|      52.0|\n",
      "| [339.0,4.0,711.0]|      65.0|\n",
      "+------------------+----------+\n",
      "only showing top 20 rows\n",
      "\n"
     ]
    }
   ],
   "source": [
    "# the formula is HP ~ Consumo + Cilindros + Cilindradas\n",
    "# HP is the dependente variable\n",
    "# Consumo + Cilindros + Cilindradas are the independente variables\n",
    "Rformula = RFormula(formula=\"HP ~ Consumo + Cilindros + Cilindradas\", featuresCol=\"independente\", labelCol=\"dependente\")\n",
    "carrosrf = Rformula.fit(carros).transform(carros)\n",
    "carrosrf.select(\"independente\", \"dependente\").show()"
   ]
  },
  {
   "cell_type": "code",
   "execution_count": null,
   "id": "0f2129e7",
   "metadata": {},
   "outputs": [],
   "source": []
  }
 ],
 "metadata": {
  "kernelspec": {
   "display_name": "Python 3",
   "language": "python",
   "name": "python3"
  },
  "language_info": {
   "codemirror_mode": {
    "name": "ipython",
    "version": 3
   },
   "file_extension": ".py",
   "mimetype": "text/x-python",
   "name": "python",
   "nbconvert_exporter": "python",
   "pygments_lexer": "ipython3",
   "version": "3.8.8"
  }
 },
 "nbformat": 4,
 "nbformat_minor": 5
}
