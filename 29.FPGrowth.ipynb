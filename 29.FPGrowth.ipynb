{
 "cells": [
  {
   "cell_type": "markdown",
   "id": "674a7102-59cb-4379-a85d-7e89e571f334",
   "metadata": {},
   "source": [
    "##### Fernando Amaral\n",
    "##### FPGrowth"
   ]
  },
  {
   "cell_type": "code",
   "execution_count": null,
   "id": "6a454bec-93e9-4ad2-bda1-4776e8942883",
   "metadata": {},
   "outputs": [],
   "source": [
    "# association rules"
   ]
  },
  {
   "cell_type": "code",
   "execution_count": 1,
   "id": "c32d4aaf",
   "metadata": {},
   "outputs": [],
   "source": [
    "import findspark, pyspark\n",
    "from pyspark.sql import SparkSession\n",
    "findspark.init()\n",
    "spark = SparkSession.builder.appName(\"fpgrowth\").getOrCreate()"
   ]
  },
  {
   "cell_type": "code",
   "execution_count": 2,
   "id": "5cad441f",
   "metadata": {},
   "outputs": [],
   "source": [
    "from pyspark.ml.fpm import FPGrowth"
   ]
  },
  {
   "cell_type": "code",
   "execution_count": 4,
   "id": "926b749a",
   "metadata": {},
   "outputs": [
    {
     "name": "stdout",
     "output_type": "stream",
     "text": [
      "+-------------------------+\n",
      "|transacoes               |\n",
      "+-------------------------+\n",
      "|[Cerveja, Pizza, Sorvete]|\n",
      "|[Pizza, Sorvete]         |\n",
      "|[Cerveja, Pizza]         |\n",
      "|[Cerveja, Pizza, Sorvete]|\n",
      "|[Cerveja, Pizza]         |\n",
      "|[Pizza]                  |\n",
      "+-------------------------+\n",
      "\n"
     ]
    }
   ],
   "source": [
    "from pyspark.sql.functions import split\n",
    "transacoes = spark.read.text(\"Transacoes.txt\").select(split(\"value\",\"\\s+\").alias(\"transacoes\"))\n",
    "transacoes.show(truncate=False)"
   ]
  },
  {
   "cell_type": "code",
   "execution_count": 6,
   "id": "5d467b9f",
   "metadata": {},
   "outputs": [
    {
     "name": "stdout",
     "output_type": "stream",
     "text": [
      "+----------------+----+\n",
      "|           items|freq|\n",
      "+----------------+----+\n",
      "|       [Sorvete]|   3|\n",
      "|[Sorvete, Pizza]|   3|\n",
      "|       [Cerveja]|   4|\n",
      "|[Cerveja, Pizza]|   4|\n",
      "|         [Pizza]|   6|\n",
      "+----------------+----+\n",
      "\n"
     ]
    }
   ],
   "source": [
    "fp = FPGrowth(itemsCol=\"transacoes\", minSupport=0.5, minConfidence=0.5)\n",
    "modelo = fp.fit(transacoes)\n",
    "modelo.freqItemsets.show()"
   ]
  },
  {
   "cell_type": "code",
   "execution_count": 7,
   "id": "86957463",
   "metadata": {},
   "outputs": [
    {
     "name": "stdout",
     "output_type": "stream",
     "text": [
      "+----------+----------+------------------+----+------------------+\n",
      "|antecedent|consequent|        confidence|lift|           support|\n",
      "+----------+----------+------------------+----+------------------+\n",
      "| [Cerveja]|   [Pizza]|               1.0| 1.0|0.6666666666666666|\n",
      "| [Sorvete]|   [Pizza]|               1.0| 1.0|               0.5|\n",
      "|   [Pizza]| [Sorvete]|               0.5| 1.0|               0.5|\n",
      "|   [Pizza]| [Cerveja]|0.6666666666666666| 1.0|0.6666666666666666|\n",
      "+----------+----------+------------------+----+------------------+\n",
      "\n"
     ]
    }
   ],
   "source": [
    "modelo.associationRules.show()"
   ]
  },
  {
   "cell_type": "code",
   "execution_count": 8,
   "id": "23bd5810",
   "metadata": {},
   "outputs": [
    {
     "name": "stdout",
     "output_type": "stream",
     "text": [
      "+-------------------------+------------------+\n",
      "|transacoes               |prediction        |\n",
      "+-------------------------+------------------+\n",
      "|[Cerveja, Pizza, Sorvete]|[]                |\n",
      "|[Pizza, Sorvete]         |[Cerveja]         |\n",
      "|[Cerveja, Pizza]         |[Sorvete]         |\n",
      "|[Cerveja, Pizza, Sorvete]|[]                |\n",
      "|[Cerveja, Pizza]         |[Sorvete]         |\n",
      "|[Pizza]                  |[Sorvete, Cerveja]|\n",
      "+-------------------------+------------------+\n",
      "\n"
     ]
    }
   ],
   "source": [
    "modelo.transform(transacoes).show(truncate=False)"
   ]
  },
  {
   "cell_type": "code",
   "execution_count": null,
   "id": "bed287bf",
   "metadata": {},
   "outputs": [],
   "source": []
  }
 ],
 "metadata": {
  "kernelspec": {
   "display_name": "Python 3",
   "language": "python",
   "name": "python3"
  },
  "language_info": {
   "codemirror_mode": {
    "name": "ipython",
    "version": 3
   },
   "file_extension": ".py",
   "mimetype": "text/x-python",
   "name": "python",
   "nbconvert_exporter": "python",
   "pygments_lexer": "ipython3",
   "version": "3.8.8"
  }
 },
 "nbformat": 4,
 "nbformat_minor": 5
}
