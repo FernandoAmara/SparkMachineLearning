{
 "cells": [
  {
   "cell_type": "markdown",
   "id": "0b5acd56-6cbb-45c9-b36c-ffae060d56a8",
   "metadata": {},
   "source": [
    "##### Fernando Amaral\n",
    "##### GeneralizedLinearRegression"
   ]
  },
  {
   "cell_type": "code",
   "execution_count": null,
   "id": "b86234d5-c3a0-4de8-be7c-f036f55c10fe",
   "metadata": {},
   "outputs": [],
   "source": [
    "# GeneralizedLinearRegression example"
   ]
  },
  {
   "cell_type": "code",
   "execution_count": 1,
   "id": "c870d6c5",
   "metadata": {},
   "outputs": [],
   "source": [
    "import findspark, pyspark\n",
    "from pyspark.sql import SparkSession\n",
    "findspark.init()\n",
    "spark = SparkSession.builder.appName(\"generalized\").getOrCreate()"
   ]
  },
  {
   "cell_type": "code",
   "execution_count": 2,
   "id": "ce7be9d5",
   "metadata": {},
   "outputs": [
    {
     "name": "stdout",
     "output_type": "stream",
     "text": [
      "+-------+---------+-----------+---------------+----+-----+---------+-----------+-------+-----------+---+\n",
      "|Consumo|Cilindros|Cilindradas|RelEixoTraseiro|Peso|Tempo|TipoMotor|Transmissao|Marchas|Carburadors| HP|\n",
      "+-------+---------+-----------+---------------+----+-----+---------+-----------+-------+-----------+---+\n",
      "|     21|        6|        160|             39| 262| 1646|        0|          1|      4|          4|110|\n",
      "|     21|        6|        160|             39|2875| 1702|        0|          1|      4|          4|110|\n",
      "|    228|        4|        108|            385| 232| 1861|        1|          1|      4|          1| 93|\n",
      "|    214|        6|        258|            308|3215| 1944|        1|          0|      3|          1|110|\n",
      "|    187|        8|        360|            315| 344| 1702|        0|          0|      3|          2|175|\n",
      "+-------+---------+-----------+---------------+----+-----+---------+-----------+-------+-----------+---+\n",
      "only showing top 5 rows\n",
      "\n"
     ]
    }
   ],
   "source": [
    "carros = spark.read.csv(\"Carros.csv\", header=True, inferSchema=True, sep=\";\")\n",
    "carros.show(5)"
   ]
  },
  {
   "cell_type": "code",
   "execution_count": 3,
   "id": "1aa47e8f",
   "metadata": {},
   "outputs": [
    {
     "name": "stdout",
     "output_type": "stream",
     "text": [
      "+-----------------+----------+\n",
      "|independente     |dependente|\n",
      "+-----------------+----------+\n",
      "|[21.0,6.0,160.0] |110.0     |\n",
      "|[21.0,6.0,160.0] |110.0     |\n",
      "|[228.0,4.0,108.0]|93.0      |\n",
      "|[214.0,6.0,258.0]|110.0     |\n",
      "|[187.0,8.0,360.0]|175.0     |\n",
      "+-----------------+----------+\n",
      "only showing top 5 rows\n",
      "\n"
     ]
    }
   ],
   "source": [
    "# we need a column with the features vectorized\n",
    "from pyspark.ml.feature import RFormula\n",
    "Rformula = RFormula(formula=\"HP ~ Consumo + Cilindros + Cilindradas\", featuresCol=\"independente\", labelCol=\"dependente\")\n",
    "carrosrf = Rformula.fit(carros).transform(carros)\n",
    "carrosrf.select(\"independente\", \"dependente\").show(5,truncate=False)"
   ]
  },
  {
   "cell_type": "code",
   "execution_count": 4,
   "id": "28fd0881",
   "metadata": {},
   "outputs": [
    {
     "name": "stdout",
     "output_type": "stream",
     "text": [
      "23\n",
      "9\n"
     ]
    }
   ],
   "source": [
    "# split for train and test\n",
    "CarrosTreino, CarrosTeste = carrosrf.randomSplit([0.7,0.3])\n",
    "print(CarrosTreino.count())\n",
    "print(CarrosTeste.count())"
   ]
  },
  {
   "cell_type": "code",
   "execution_count": 5,
   "id": "f53664c1",
   "metadata": {},
   "outputs": [],
   "source": [
    "# create the model and fit it\n",
    "from pyspark.ml.regression import GeneralizedLinearRegression\n",
    "geral = GeneralizedLinearRegression(family=\"gaussian\", featuresCol=\"independente\", labelCol=\"dependente\",\n",
    "                                   link=\"identity\", maxIter=1000, regParam=0.08)\n",
    "modelo = geral.fit(CarrosTreino)"
   ]
  },
  {
   "cell_type": "code",
   "execution_count": 6,
   "id": "f0387759",
   "metadata": {},
   "outputs": [
    {
     "name": "stdout",
     "output_type": "stream",
     "text": [
      "+----------+------------------+\n",
      "|dependente|        prediction|\n",
      "+----------+------------------+\n",
      "|     335.0|217.99115578655366|\n",
      "|     110.0| 166.8766488949735|\n",
      "|     110.0| 166.8766488949735|\n",
      "|     150.0|198.71015900635447|\n",
      "|     264.0| 198.0695777276623|\n",
      "|     180.0|179.24363184803596|\n",
      "|     123.0|132.90696356190432|\n",
      "|     175.0|142.89113033874565|\n",
      "|      66.0| 81.67272981806948|\n",
      "+----------+------------------+\n",
      "\n"
     ]
    }
   ],
   "source": [
    "# predict\n",
    "previsao = modelo.transform(CarrosTeste)\n",
    "previsao.select(\"dependente\", \"prediction\").show()"
   ]
  },
  {
   "cell_type": "code",
   "execution_count": 7,
   "id": "e4a24d50",
   "metadata": {},
   "outputs": [
    {
     "name": "stdout",
     "output_type": "stream",
     "text": [
      "56.03154881683042\n"
     ]
    }
   ],
   "source": [
    "# evaluate\n",
    "from pyspark.ml.evaluation import RegressionEvaluator\n",
    "avaliar = RegressionEvaluator(predictionCol=\"prediction\", labelCol=\"dependente\", metricName=\"rmse\")\n",
    "rmse = avaliar.evaluate(previsao)\n",
    "print(rmse)"
   ]
  },
  {
   "cell_type": "code",
   "execution_count": null,
   "id": "e0081ebe",
   "metadata": {},
   "outputs": [],
   "source": []
  }
 ],
 "metadata": {
  "kernelspec": {
   "display_name": "Python 3",
   "language": "python",
   "name": "python3"
  },
  "language_info": {
   "codemirror_mode": {
    "name": "ipython",
    "version": 3
   },
   "file_extension": ".py",
   "mimetype": "text/x-python",
   "name": "python",
   "nbconvert_exporter": "python",
   "pygments_lexer": "ipython3",
   "version": "3.8.8"
  }
 },
 "nbformat": 4,
 "nbformat_minor": 5
}
