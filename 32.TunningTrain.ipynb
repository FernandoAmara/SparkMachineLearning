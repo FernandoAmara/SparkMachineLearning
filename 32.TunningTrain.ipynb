{
 "cells": [
  {
   "cell_type": "markdown",
   "id": "93464c7a-2430-47bb-b59a-5ecc9dc230da",
   "metadata": {},
   "source": [
    "##### Fernando Amaral\n",
    "##### TrainValidationSplit"
   ]
  },
  {
   "cell_type": "code",
   "execution_count": null,
   "id": "6ec6c332-0c29-4fe4-8a62-73e9c27add88",
   "metadata": {},
   "outputs": [],
   "source": [
    "# Tunning + Pipeline with TrainValidationSplit"
   ]
  },
  {
   "cell_type": "code",
   "execution_count": 1,
   "id": "2be02f70",
   "metadata": {},
   "outputs": [],
   "source": [
    "import findspark, pyspark\n",
    "from pyspark.sql import SparkSession\n",
    "findspark.init()\n",
    "spark = SparkSession.builder.appName(\"tunningtrain\").getOrCreate()"
   ]
  },
  {
   "cell_type": "code",
   "execution_count": 2,
   "id": "732a6945",
   "metadata": {},
   "outputs": [],
   "source": [
    "iris = spark.read.csv(\"iris.csv\", header=True, inferSchema=True, sep=\",\")\n",
    "irisTreino, irisTeste = iris.randomSplit([0.7,0.3])"
   ]
  },
  {
   "cell_type": "code",
   "execution_count": 3,
   "id": "24580033",
   "metadata": {},
   "outputs": [],
   "source": [
    "from pyspark.ml.feature import VectorAssembler\n",
    "vector = VectorAssembler(inputCols=[\"sepallength\",\"sepalwidth\",\"petallength\",\"petalwidth\"],outputCol=\"independente\" )"
   ]
  },
  {
   "cell_type": "code",
   "execution_count": 4,
   "id": "bdfb53d0",
   "metadata": {},
   "outputs": [],
   "source": [
    "from pyspark.ml.feature import StringIndexer\n",
    "indexer = StringIndexer(inputCol=\"class\", outputCol=\"label\")"
   ]
  },
  {
   "cell_type": "code",
   "execution_count": 5,
   "id": "2b3a0138",
   "metadata": {},
   "outputs": [],
   "source": [
    "from pyspark.ml.classification import MultilayerPerceptronClassifier\n",
    "mlp = MultilayerPerceptronClassifier(maxIter=100, layers=[4,5,4,3], featuresCol=\"independente\", labelCol=\"label\")"
   ]
  },
  {
   "cell_type": "code",
   "execution_count": 6,
   "id": "37cc7709",
   "metadata": {},
   "outputs": [],
   "source": [
    "from pyspark.ml import Pipeline\n",
    "pipeline = Pipeline(stages=[vector, indexer, mlp])"
   ]
  },
  {
   "cell_type": "code",
   "execution_count": 7,
   "id": "12d6089b",
   "metadata": {},
   "outputs": [],
   "source": [
    "from pyspark.ml.tuning import ParamGridBuilder, TrainValidationSplit\n",
    "from pyspark.ml.evaluation import MulticlassClassificationEvaluator\n",
    "performance = MulticlassClassificationEvaluator(labelCol=\"label\", metricName=\"accuracy\")\n",
    "\n",
    "#these are the hyper parameters we want to test\n",
    "grid = ParamGridBuilder().addGrid(mlp.maxIter,[10,100,1000]).addGrid(mlp.layers,[[4,5,4,3],[4,4,3]]).build()\n",
    "trainval = TrainValidationSplit(estimator=pipeline,estimatorParamMaps=grid,evaluator=performance,trainRatio=0.8)"
   ]
  },
  {
   "cell_type": "code",
   "execution_count": 8,
   "id": "f0094243",
   "metadata": {},
   "outputs": [],
   "source": [
    "modelo = trainval.fit(irisTreino)"
   ]
  },
  {
   "cell_type": "code",
   "execution_count": 9,
   "id": "2887af6d",
   "metadata": {},
   "outputs": [
    {
     "name": "stdout",
     "output_type": "stream",
     "text": [
      "+--------------------+--------------------+----------+\n",
      "|       rawprediction|         probability|prediction|\n",
      "+--------------------+--------------------+----------+\n",
      "|[-13.097934461929...|[1.53710143356577...|       1.0|\n",
      "|[-13.097934461509...|[1.53710143477544...|       1.0|\n",
      "|[-13.097934462052...|[1.53710143321350...|       1.0|\n",
      "|[-13.097934460936...|[1.53710143642194...|       1.0|\n",
      "|[60.1396548507122...|[1.0,3.4823515854...|       0.0|\n",
      "|[-13.097934461819...|[1.53710143388331...|       1.0|\n",
      "|[59.2305062203538...|[1.0,4.7310136727...|       0.0|\n",
      "|[-13.097934461397...|[1.53710143509726...|       1.0|\n",
      "|[-13.097934461921...|[1.53710143358949...|       1.0|\n",
      "|[-13.097934461971...|[1.53710143344432...|       1.0|\n",
      "|[-13.097934461996...|[1.53710143337254...|       1.0|\n",
      "|[60.1436410398455...|[1.0,3.5129635671...|       0.0|\n",
      "|[-13.097934461917...|[1.53710143360159...|       1.0|\n",
      "|[-13.097934461942...|[1.53710143352872...|       1.0|\n",
      "|[-13.097934461975...|[1.53710143343268...|       1.0|\n",
      "|[48.6153901872912...|[0.99997565028781...|       0.0|\n",
      "|[-13.097934462037...|[1.53710143325561...|       1.0|\n",
      "|[-13.097934461902...|[1.53710143364286...|       1.0|\n",
      "|[52.0844654598766...|[0.99999999999964...|       0.0|\n",
      "|[54.0287160493544...|[1.0,5.1854767648...|       0.0|\n",
      "+--------------------+--------------------+----------+\n",
      "only showing top 20 rows\n",
      "\n"
     ]
    }
   ],
   "source": [
    "previsao = modelo.transform(irisTeste)\n",
    "previsao.select(\"rawprediction\",\"probability\",\"prediction\").show()"
   ]
  },
  {
   "cell_type": "code",
   "execution_count": 10,
   "id": "a9a3df74",
   "metadata": {},
   "outputs": [
    {
     "name": "stdout",
     "output_type": "stream",
     "text": [
      "1.0\n"
     ]
    }
   ],
   "source": [
    "performance = MulticlassClassificationEvaluator(labelCol=\"label\", predictionCol=\"prediction\", metricName=\"accuracy\")\n",
    "acuracia = performance.evaluate(previsao)\n",
    "print(acuracia)"
   ]
  },
  {
   "cell_type": "code",
   "execution_count": null,
   "id": "a9431e4c",
   "metadata": {},
   "outputs": [],
   "source": []
  }
 ],
 "metadata": {
  "kernelspec": {
   "display_name": "Python 3",
   "language": "python",
   "name": "python3"
  },
  "language_info": {
   "codemirror_mode": {
    "name": "ipython",
    "version": 3
   },
   "file_extension": ".py",
   "mimetype": "text/x-python",
   "name": "python",
   "nbconvert_exporter": "python",
   "pygments_lexer": "ipython3",
   "version": "3.8.8"
  }
 },
 "nbformat": 4,
 "nbformat_minor": 5
}
