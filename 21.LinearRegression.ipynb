{
 "cells": [
  {
   "cell_type": "markdown",
   "id": "4d1f9279-39ab-4eb2-8a19-9bd04b066ecf",
   "metadata": {},
   "source": [
    "##### Fernando Amaral\n",
    "##### Linear Regression"
   ]
  },
  {
   "cell_type": "code",
   "execution_count": null,
   "id": "99091780-24b4-44aa-97ff-4e49e23cf250",
   "metadata": {},
   "outputs": [],
   "source": [
    "#linear Regression example\n",
    "# HP as dependent variable"
   ]
  },
  {
   "cell_type": "code",
   "execution_count": 1,
   "id": "f119ef6e",
   "metadata": {},
   "outputs": [],
   "source": [
    "import findspark, pyspark\n",
    "from pyspark.sql import SparkSession\n",
    "findspark.init()\n",
    "spark = SparkSession.builder.appName(\"univariatefeatureselector\").getOrCreate()"
   ]
  },
  {
   "cell_type": "code",
   "execution_count": 4,
   "id": "32588d04",
   "metadata": {},
   "outputs": [
    {
     "name": "stdout",
     "output_type": "stream",
     "text": [
      "32\n",
      "+-------+---------+-----------+---------------+----+-----+---------+-----------+-------+-----------+---+\n",
      "|Consumo|Cilindros|Cilindradas|RelEixoTraseiro|Peso|Tempo|TipoMotor|Transmissao|Marchas|Carburadors| HP|\n",
      "+-------+---------+-----------+---------------+----+-----+---------+-----------+-------+-----------+---+\n",
      "|     21|        6|        160|             39| 262| 1646|        0|          1|      4|          4|110|\n",
      "|     21|        6|        160|             39|2875| 1702|        0|          1|      4|          4|110|\n",
      "|    228|        4|        108|            385| 232| 1861|        1|          1|      4|          1| 93|\n",
      "|    214|        6|        258|            308|3215| 1944|        1|          0|      3|          1|110|\n",
      "|    187|        8|        360|            315| 344| 1702|        0|          0|      3|          2|175|\n",
      "+-------+---------+-----------+---------------+----+-----+---------+-----------+-------+-----------+---+\n",
      "only showing top 5 rows\n",
      "\n"
     ]
    }
   ],
   "source": [
    "carros = spark.read.csv(\"Carros.csv\", header=True, inferSchema=True, sep=\";\")\n",
    "print(carros.count())\n",
    "carros.show(5)"
   ]
  },
  {
   "cell_type": "code",
   "execution_count": 5,
   "id": "a1936c75",
   "metadata": {},
   "outputs": [],
   "source": [
    "from pyspark.ml.feature import RFormula"
   ]
  },
  {
   "cell_type": "code",
   "execution_count": 6,
   "id": "912109bb",
   "metadata": {},
   "outputs": [
    {
     "name": "stdout",
     "output_type": "stream",
     "text": [
      "+-----------------+----------+\n",
      "|independente     |dependente|\n",
      "+-----------------+----------+\n",
      "|[21.0,6.0,160.0] |110.0     |\n",
      "|[21.0,6.0,160.0] |110.0     |\n",
      "|[228.0,4.0,108.0]|93.0      |\n",
      "|[214.0,6.0,258.0]|110.0     |\n",
      "|[187.0,8.0,360.0]|175.0     |\n",
      "+-----------------+----------+\n",
      "only showing top 5 rows\n",
      "\n"
     ]
    }
   ],
   "source": [
    "# we need a column with the features vectorized\n",
    "Rformula = RFormula(formula=\"HP ~ Consumo + Cilindros + Cilindradas\", featuresCol=\"independente\", labelCol=\"dependente\")\n",
    "carrosrf = Rformula.fit(carros).transform(carros)\n",
    "carrosrf.select(\"independente\", \"dependente\").show(5,truncate=False)"
   ]
  },
  {
   "cell_type": "code",
   "execution_count": 8,
   "id": "faf9b1d7",
   "metadata": {},
   "outputs": [
    {
     "name": "stdout",
     "output_type": "stream",
     "text": [
      "26\n",
      "6\n"
     ]
    }
   ],
   "source": [
    "# split for train and test\n",
    "CarrosTreino, CarrosTeste = carrosrf.randomSplit([0.8,0.2])\n",
    "print(CarrosTreino.count())\n",
    "print(CarrosTeste.count())"
   ]
  },
  {
   "cell_type": "code",
   "execution_count": 10,
   "id": "7ceb3947",
   "metadata": {},
   "outputs": [],
   "source": [
    "# create the model and fit it\n",
    "from pyspark.ml.regression import LinearRegression\n",
    "reglin = LinearRegression(featuresCol=\"independente\", labelCol=\"dependente\", maxIter=1000, loss=\"squaredError\",\n",
    "                         standardization=True)\n",
    "modelo = reglin.fit(CarrosTreino)"
   ]
  },
  {
   "cell_type": "code",
   "execution_count": 11,
   "id": "8f0392d6",
   "metadata": {},
   "outputs": [
    {
     "name": "stdout",
     "output_type": "stream",
     "text": [
      "+----------+------------------+\n",
      "|dependente|        prediction|\n",
      "+----------+------------------+\n",
      "|     110.0| 179.0603221930096|\n",
      "|     205.0|217.47147234184533|\n",
      "|     123.0| 138.1636533968134|\n",
      "|     105.0|152.17352242096229|\n",
      "|     123.0|135.86790133743273|\n",
      "|      52.0| 71.54678097228751|\n",
      "+----------+------------------+\n",
      "\n"
     ]
    }
   ],
   "source": [
    "# predict\n",
    "previsao = modelo.transform(CarrosTeste)\n",
    "previsao.select(\"dependente\",\"prediction\").show()"
   ]
  },
  {
   "cell_type": "code",
   "execution_count": 12,
   "id": "baadb1d7",
   "metadata": {},
   "outputs": [
    {
     "name": "stdout",
     "output_type": "stream",
     "text": [
      "36.34969705725187\n"
     ]
    }
   ],
   "source": [
    "# evaluate\n",
    "from pyspark.ml.evaluation import RegressionEvaluator\n",
    "avaliar = RegressionEvaluator(predictionCol=\"prediction\", labelCol=\"dependente\", metricName=\"rmse\")\n",
    "rmse = avaliar.evaluate(previsao)\n",
    "print(rmse)"
   ]
  },
  {
   "cell_type": "code",
   "execution_count": null,
   "id": "c61fc65f",
   "metadata": {},
   "outputs": [],
   "source": []
  }
 ],
 "metadata": {
  "kernelspec": {
   "display_name": "Python 3",
   "language": "python",
   "name": "python3"
  },
  "language_info": {
   "codemirror_mode": {
    "name": "ipython",
    "version": 3
   },
   "file_extension": ".py",
   "mimetype": "text/x-python",
   "name": "python",
   "nbconvert_exporter": "python",
   "pygments_lexer": "ipython3",
   "version": "3.8.8"
  }
 },
 "nbformat": 4,
 "nbformat_minor": 5
}
