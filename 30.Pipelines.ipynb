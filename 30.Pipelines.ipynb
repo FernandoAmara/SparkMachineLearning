{
 "cells": [
  {
   "cell_type": "markdown",
   "id": "8b519d87-2462-4c9d-add2-c03c1ff2e031",
   "metadata": {},
   "source": [
    "##### Fernando Amaral\n",
    "##### Pipelines"
   ]
  },
  {
   "cell_type": "code",
   "execution_count": null,
   "id": "2d79e683-7f56-4945-aee8-5accc972615a",
   "metadata": {},
   "outputs": [],
   "source": [
    "# Pipeline example"
   ]
  },
  {
   "cell_type": "code",
   "execution_count": 1,
   "id": "912b2256",
   "metadata": {},
   "outputs": [],
   "source": [
    "import findspark, pyspark\n",
    "from pyspark.sql import SparkSession\n",
    "findspark.init()\n",
    "spark = SparkSession.builder.appName(\"pipeline\").getOrCreate()"
   ]
  },
  {
   "cell_type": "code",
   "execution_count": 2,
   "id": "85881fd1",
   "metadata": {},
   "outputs": [],
   "source": [
    "iris = spark.read.csv(\"iris.csv\", header=True, inferSchema=True, sep=\",\")\n",
    "irisTreino, irisTeste = iris.randomSplit([0.7,0.3])"
   ]
  },
  {
   "cell_type": "code",
   "execution_count": 3,
   "id": "4aeca414",
   "metadata": {},
   "outputs": [],
   "source": [
    "# we create the objects, but we do not fit or tranform\n",
    "# we need a column with the features vectorized\n",
    "from pyspark.ml.feature import VectorAssembler\n",
    "vector = VectorAssembler(inputCols=[\"sepallength\",\"sepalwidth\",\"petallength\",\"petalwidth\"],outputCol=\"independente\" )"
   ]
  },
  {
   "cell_type": "code",
   "execution_count": 4,
   "id": "7d57fabc",
   "metadata": {},
   "outputs": [],
   "source": [
    "# class from string to a index (number)\n",
    "from pyspark.ml.feature import StringIndexer\n",
    "indexer = StringIndexer(inputCol=\"class\", outputCol=\"dependente\")"
   ]
  },
  {
   "cell_type": "code",
   "execution_count": 5,
   "id": "67a776aa",
   "metadata": {},
   "outputs": [],
   "source": [
    "# model\n",
    "from pyspark.ml.classification import MultilayerPerceptronClassifier\n",
    "mlp = MultilayerPerceptronClassifier(maxIter=100, layers=[4,5,4,3], featuresCol=\"independente\", labelCol=\"dependente\")"
   ]
  },
  {
   "cell_type": "code",
   "execution_count": 6,
   "id": "771f8d20",
   "metadata": {},
   "outputs": [],
   "source": [
    "# create the pipeline\n",
    "from pyspark.ml import Pipeline\n",
    "# steps in the order \n",
    "pipeline = Pipeline(stages=[vector, indexer, mlp])\n",
    "modelo = pipeline.fit(irisTreino)"
   ]
  },
  {
   "cell_type": "code",
   "execution_count": 7,
   "id": "bc572d92",
   "metadata": {},
   "outputs": [],
   "source": [
    "previsao = modelo.transform(irisTeste)"
   ]
  },
  {
   "cell_type": "code",
   "execution_count": 8,
   "id": "edf30f19",
   "metadata": {},
   "outputs": [
    {
     "name": "stdout",
     "output_type": "stream",
     "text": [
      "+-----------------+----------+--------------------+--------------------+----------+\n",
      "|     independente|dependente|       rawprediction|         probability|prediction|\n",
      "+-----------------+----------+--------------------+--------------------+----------+\n",
      "|[4.4,2.9,1.4,0.2]|       0.0|[51.6517777683934...|[0.99999999999994...|       0.0|\n",
      "|[4.6,3.1,1.5,0.2]|       0.0|[51.6517777676660...|[0.99999999999994...|       0.0|\n",
      "|[4.7,3.2,1.3,0.2]|       0.0|[51.6517777675897...|[0.99999999999994...|       0.0|\n",
      "|[4.8,3.1,1.6,0.2]|       0.0|[51.6517777673324...|[0.99999999999994...|       0.0|\n",
      "|[4.9,2.5,4.5,1.7]|       1.0|[-226.80564350423...|[7.75227398846502...|       1.0|\n",
      "|[4.9,3.1,1.5,0.1]|       0.0|[51.6517777674654...|[0.99999999999994...|       0.0|\n",
      "|[4.9,3.1,1.5,0.1]|       0.0|[51.6517777674654...|[0.99999999999994...|       0.0|\n",
      "|[5.0,2.3,3.3,1.0]|       2.0|[-145.94387756418...|[3.89891160274124...|       2.0|\n",
      "|[5.0,3.0,1.6,0.2]|       0.0|[51.6517777669313...|[0.99999999999994...|       0.0|\n",
      "|[5.0,3.5,1.3,0.3]|       0.0|[51.6517777670409...|[0.99999999999994...|       0.0|\n",
      "|[5.0,3.5,1.6,0.6]|       0.0|[51.6517777668313...|[0.99999999999994...|       0.0|\n",
      "|[5.0,3.6,1.4,0.2]|       0.0|[51.6517777670047...|[0.99999999999994...|       0.0|\n",
      "|[5.1,3.7,1.5,0.4]|       0.0|[51.6517777668274...|[0.99999999999994...|       0.0|\n",
      "|[5.1,3.8,1.5,0.3]|       0.0|[51.6517777668258...|[0.99999999999994...|       0.0|\n",
      "|[5.2,3.5,1.5,0.2]|       0.0|[51.6517777669370...|[0.99999999999994...|       0.0|\n",
      "|[5.5,2.4,3.7,1.0]|       2.0|[-145.94362890217...|[3.90017640465866...|       2.0|\n",
      "|[5.6,2.5,3.9,1.1]|       2.0|[-145.94360336473...|[3.90030632229492...|       2.0|\n",
      "|[5.6,3.0,4.5,1.5]|       2.0|[-169.09230877867...|[3.00504336720841...|       2.0|\n",
      "|[5.7,2.8,4.1,1.3]|       2.0|[-145.94621505801...|[3.88704213578852...|       2.0|\n",
      "|[5.7,3.8,1.7,0.3]|       0.0|[51.6517777666825...|[0.99999999999994...|       0.0|\n",
      "+-----------------+----------+--------------------+--------------------+----------+\n",
      "only showing top 20 rows\n",
      "\n"
     ]
    }
   ],
   "source": [
    "previsao.select(\"independente\",\"dependente\",\"rawprediction\",\"probability\",\"prediction\").show()"
   ]
  },
  {
   "cell_type": "code",
   "execution_count": 9,
   "id": "e672d5f4",
   "metadata": {},
   "outputs": [
    {
     "name": "stdout",
     "output_type": "stream",
     "text": [
      "0.9795918367346939\n"
     ]
    }
   ],
   "source": [
    "from pyspark.ml.evaluation import MulticlassClassificationEvaluator\n",
    "performance = MulticlassClassificationEvaluator(labelCol=\"dependente\",predictionCol=\"prediction\", metricName=\"accuracy\")\n",
    "acuracia = performance.evaluate(previsao)\n",
    "print(acuracia)"
   ]
  },
  {
   "cell_type": "code",
   "execution_count": null,
   "id": "dd47a4cb",
   "metadata": {},
   "outputs": [],
   "source": []
  }
 ],
 "metadata": {
  "kernelspec": {
   "display_name": "Python 3",
   "language": "python",
   "name": "python3"
  },
  "language_info": {
   "codemirror_mode": {
    "name": "ipython",
    "version": 3
   },
   "file_extension": ".py",
   "mimetype": "text/x-python",
   "name": "python",
   "nbconvert_exporter": "python",
   "pygments_lexer": "ipython3",
   "version": "3.8.8"
  }
 },
 "nbformat": 4,
 "nbformat_minor": 5
}
