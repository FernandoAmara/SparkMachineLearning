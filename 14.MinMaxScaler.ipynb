{
 "cells": [
  {
   "cell_type": "markdown",
   "id": "255eca5b-ed31-48bc-a6f8-7a937d2aeca6",
   "metadata": {},
   "source": [
    "##### Fernando Amaral\n",
    "##### MinMaxScaler "
   ]
  },
  {
   "cell_type": "code",
   "execution_count": null,
   "id": "b359ca01-2085-4b6d-a7ef-d5d0a46ba104",
   "metadata": {},
   "outputs": [],
   "source": [
    "# Transforms data to a threshold. Usually between zero and 1"
   ]
  },
  {
   "cell_type": "code",
   "execution_count": 1,
   "id": "631db41e",
   "metadata": {},
   "outputs": [],
   "source": [
    "import findspark, pyspark\n",
    "from pyspark.sql import SparkSession\n",
    "findspark.init()\n",
    "spark = SparkSession.builder.appName(\"standardscaler\").getOrCreate()"
   ]
  },
  {
   "cell_type": "code",
   "execution_count": 2,
   "id": "a562a451",
   "metadata": {},
   "outputs": [],
   "source": [
    "from pyspark.ml.feature import MinMaxScaler"
   ]
  },
  {
   "cell_type": "code",
   "execution_count": 3,
   "id": "4fdb9e40",
   "metadata": {},
   "outputs": [
    {
     "name": "stdout",
     "output_type": "stream",
     "text": [
      "+-------+---------+-----------+---------------+----+-----+---------+-----------+-------+-----------+---+\n",
      "|Consumo|Cilindros|Cilindradas|RelEixoTraseiro|Peso|Tempo|TipoMotor|Transmissao|Marchas|Carburadors| HP|\n",
      "+-------+---------+-----------+---------------+----+-----+---------+-----------+-------+-----------+---+\n",
      "|     21|        6|        160|             39| 262| 1646|        0|          1|      4|          4|110|\n",
      "|     21|        6|        160|             39|2875| 1702|        0|          1|      4|          4|110|\n",
      "|    228|        4|        108|            385| 232| 1861|        1|          1|      4|          1| 93|\n",
      "|    214|        6|        258|            308|3215| 1944|        1|          0|      3|          1|110|\n",
      "|    187|        8|        360|            315| 344| 1702|        0|          0|      3|          2|175|\n",
      "+-------+---------+-----------+---------------+----+-----+---------+-----------+-------+-----------+---+\n",
      "only showing top 5 rows\n",
      "\n"
     ]
    }
   ],
   "source": [
    "carros = spark.read.csv(\"Carros.csv\", header=True, inferSchema=True, sep=\";\")\n",
    "carros.show(5)"
   ]
  },
  {
   "cell_type": "code",
   "execution_count": 4,
   "id": "897710fe",
   "metadata": {},
   "outputs": [
    {
     "name": "stdout",
     "output_type": "stream",
     "text": [
      "+-------+---------+-----------+------------------+\n",
      "|Consumo|Cilindros|Cilindradas|             vetor|\n",
      "+-------+---------+-----------+------------------+\n",
      "|     21|        6|        160|  [21.0,6.0,160.0]|\n",
      "|     21|        6|        160|  [21.0,6.0,160.0]|\n",
      "|    228|        4|        108| [228.0,4.0,108.0]|\n",
      "|    214|        6|        258| [214.0,6.0,258.0]|\n",
      "|    187|        8|        360| [187.0,8.0,360.0]|\n",
      "|    181|        6|        225| [181.0,6.0,225.0]|\n",
      "|    143|        8|        360| [143.0,8.0,360.0]|\n",
      "|    244|        4|       1467|[244.0,4.0,1467.0]|\n",
      "|    228|        4|       1408|[228.0,4.0,1408.0]|\n",
      "|    192|        6|       1676|[192.0,6.0,1676.0]|\n",
      "|    178|        6|       1676|[178.0,6.0,1676.0]|\n",
      "|    164|        8|       2758|[164.0,8.0,2758.0]|\n",
      "|    173|        8|       2758|[173.0,8.0,2758.0]|\n",
      "|    152|        8|       2758|[152.0,8.0,2758.0]|\n",
      "|    104|        8|        472| [104.0,8.0,472.0]|\n",
      "|    104|        8|        460| [104.0,8.0,460.0]|\n",
      "|    147|        8|        440| [147.0,8.0,440.0]|\n",
      "|    324|        4|        787| [324.0,4.0,787.0]|\n",
      "|    304|        4|        757| [304.0,4.0,757.0]|\n",
      "|    339|        4|        711| [339.0,4.0,711.0]|\n",
      "+-------+---------+-----------+------------------+\n",
      "only showing top 20 rows\n",
      "\n"
     ]
    }
   ],
   "source": [
    "# create a new column with features vectorized\n",
    "from pyspark.ml.feature import VectorAssembler\n",
    "vecassembler = VectorAssembler(inputCols=[\"Consumo\",\"Cilindros\",\"Cilindradas\"], outputCol=\"vetor\")\n",
    "carros_vetor = vecassembler.transform(carros)\n",
    "carros_vetor.select(\"Consumo\",\"Cilindros\",\"Cilindradas\",\"vetor\").show()"
   ]
  },
  {
   "cell_type": "code",
   "execution_count": 7,
   "id": "418241bb",
   "metadata": {},
   "outputs": [
    {
     "name": "stdout",
     "output_type": "stream",
     "text": [
      "+------------------+---------------------------------------------+\n",
      "|vetor             |minmaxscale                                  |\n",
      "+------------------+---------------------------------------------+\n",
      "|[21.0,6.0,160.0]  |[0.05555555555555555,1.5,0.09070548712206047]|\n",
      "|[21.0,6.0,160.0]  |[0.05555555555555555,1.5,0.09070548712206047]|\n",
      "|[228.0,4.0,108.0] |[1.972222222222222,0.0,0.032474804031354984] |\n",
      "|[214.0,6.0,258.0] |[1.8425925925925926,1.5,0.20044792833146696] |\n",
      "|[187.0,8.0,360.0] |[1.5925925925925926,3.0,0.3146696528555431]  |\n",
      "|[181.0,6.0,225.0] |[1.537037037037037,1.5,0.16349384098544234]  |\n",
      "|[143.0,8.0,360.0] |[1.1851851851851851,3.0,0.3146696528555431]  |\n",
      "|[244.0,4.0,1467.0]|[2.1203703703703702,0.0,1.5543113101903696]  |\n",
      "|[228.0,4.0,1408.0]|[1.972222222222222,0.0,1.4882418812989922]   |\n",
      "|[192.0,6.0,1676.0]|[1.6388888888888888,1.5,1.788353863381859]   |\n",
      "|[178.0,6.0,1676.0]|[1.509259259259259,1.5,1.788353863381859]    |\n",
      "|[164.0,8.0,2758.0]|[1.3796296296296295,3.0,3.0]                 |\n",
      "|[173.0,8.0,2758.0]|[1.4629629629629628,3.0,3.0]                 |\n",
      "|[152.0,8.0,2758.0]|[1.2685185185185184,3.0,3.0]                 |\n",
      "|[104.0,8.0,472.0] |[0.8240740740740741,3.0,0.4400895856662934]  |\n",
      "|[104.0,8.0,460.0] |[0.8240740740740741,3.0,0.42665173572228443] |\n",
      "|[147.0,8.0,440.0] |[1.222222222222222,3.0,0.4042553191489362]   |\n",
      "|[324.0,4.0,787.0] |[2.861111111111111,0.0,0.7928331466965286]   |\n",
      "|[304.0,4.0,757.0] |[2.6759259259259256,0.0,0.7592385218365062]  |\n",
      "|[339.0,4.0,711.0] |[3.0,0.0,0.7077267637178052]                 |\n",
      "+------------------+---------------------------------------------+\n",
      "only showing top 20 rows\n",
      "\n"
     ]
    }
   ],
   "source": [
    "# min and max set the bounds\n",
    "escala = MinMaxScaler(inputCol=\"vetor\", outputCol=\"minmaxscale\", min=0, max=1)\n",
    "modelo = escala.fit(carros_vetor)\n",
    "carrosminmax = modelo.transform(carros_vetor)\n",
    "carrosminmax.select(\"vetor\",\"minmaxscale\").show(truncate=False)"
   ]
  },
  {
   "cell_type": "code",
   "execution_count": null,
   "id": "56ab0920",
   "metadata": {},
   "outputs": [],
   "source": []
  }
 ],
 "metadata": {
  "kernelspec": {
   "display_name": "Python 3",
   "language": "python",
   "name": "python3"
  },
  "language_info": {
   "codemirror_mode": {
    "name": "ipython",
    "version": 3
   },
   "file_extension": ".py",
   "mimetype": "text/x-python",
   "name": "python",
   "nbconvert_exporter": "python",
   "pygments_lexer": "ipython3",
   "version": "3.8.8"
  }
 },
 "nbformat": 4,
 "nbformat_minor": 5
}
