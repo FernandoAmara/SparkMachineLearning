{
 "cells": [
  {
   "cell_type": "markdown",
   "id": "9f43bcf9-6f14-4afc-b3ea-bba56e8bf807",
   "metadata": {},
   "source": [
    "##### Fernando Amaral\n",
    "##### MaxAbsScaler "
   ]
  },
  {
   "cell_type": "code",
   "execution_count": null,
   "id": "57e0088d-cb01-4f95-ba9a-05074f4c690b",
   "metadata": {},
   "outputs": [],
   "source": [
    "# Standardizes data between -1 and 1, without centralizing"
   ]
  },
  {
   "cell_type": "code",
   "execution_count": 1,
   "id": "69200b36",
   "metadata": {},
   "outputs": [],
   "source": [
    "import findspark, pyspark\n",
    "from pyspark.sql import SparkSession\n",
    "findspark.init()\n",
    "spark = SparkSession.builder.appName(\"standardscaler\").getOrCreate()"
   ]
  },
  {
   "cell_type": "code",
   "execution_count": 2,
   "id": "e3b55ac0",
   "metadata": {},
   "outputs": [],
   "source": [
    "from pyspark.ml.feature import MaxAbsScaler"
   ]
  },
  {
   "cell_type": "code",
   "execution_count": 3,
   "id": "92fcfa98",
   "metadata": {},
   "outputs": [
    {
     "name": "stdout",
     "output_type": "stream",
     "text": [
      "+-------+---------+-----------+---------------+----+-----+---------+-----------+-------+-----------+---+\n",
      "|Consumo|Cilindros|Cilindradas|RelEixoTraseiro|Peso|Tempo|TipoMotor|Transmissao|Marchas|Carburadors| HP|\n",
      "+-------+---------+-----------+---------------+----+-----+---------+-----------+-------+-----------+---+\n",
      "|     21|        6|        160|             39| 262| 1646|        0|          1|      4|          4|110|\n",
      "|     21|        6|        160|             39|2875| 1702|        0|          1|      4|          4|110|\n",
      "|    228|        4|        108|            385| 232| 1861|        1|          1|      4|          1| 93|\n",
      "|    214|        6|        258|            308|3215| 1944|        1|          0|      3|          1|110|\n",
      "|    187|        8|        360|            315| 344| 1702|        0|          0|      3|          2|175|\n",
      "+-------+---------+-----------+---------------+----+-----+---------+-----------+-------+-----------+---+\n",
      "only showing top 5 rows\n",
      "\n"
     ]
    }
   ],
   "source": [
    "carros = spark.read.csv(\"Carros.csv\", header=True, inferSchema=True, sep=\";\")\n",
    "carros.show(5)"
   ]
  },
  {
   "cell_type": "code",
   "execution_count": 4,
   "id": "69dcbaff",
   "metadata": {},
   "outputs": [
    {
     "name": "stdout",
     "output_type": "stream",
     "text": [
      "+-------+---------+-----------+------------------+\n",
      "|Consumo|Cilindros|Cilindradas|             vetor|\n",
      "+-------+---------+-----------+------------------+\n",
      "|     21|        6|        160|  [21.0,6.0,160.0]|\n",
      "|     21|        6|        160|  [21.0,6.0,160.0]|\n",
      "|    228|        4|        108| [228.0,4.0,108.0]|\n",
      "|    214|        6|        258| [214.0,6.0,258.0]|\n",
      "|    187|        8|        360| [187.0,8.0,360.0]|\n",
      "|    181|        6|        225| [181.0,6.0,225.0]|\n",
      "|    143|        8|        360| [143.0,8.0,360.0]|\n",
      "|    244|        4|       1467|[244.0,4.0,1467.0]|\n",
      "|    228|        4|       1408|[228.0,4.0,1408.0]|\n",
      "|    192|        6|       1676|[192.0,6.0,1676.0]|\n",
      "|    178|        6|       1676|[178.0,6.0,1676.0]|\n",
      "|    164|        8|       2758|[164.0,8.0,2758.0]|\n",
      "|    173|        8|       2758|[173.0,8.0,2758.0]|\n",
      "|    152|        8|       2758|[152.0,8.0,2758.0]|\n",
      "|    104|        8|        472| [104.0,8.0,472.0]|\n",
      "|    104|        8|        460| [104.0,8.0,460.0]|\n",
      "|    147|        8|        440| [147.0,8.0,440.0]|\n",
      "|    324|        4|        787| [324.0,4.0,787.0]|\n",
      "|    304|        4|        757| [304.0,4.0,757.0]|\n",
      "|    339|        4|        711| [339.0,4.0,711.0]|\n",
      "+-------+---------+-----------+------------------+\n",
      "only showing top 20 rows\n",
      "\n"
     ]
    }
   ],
   "source": [
    "# create a new column with features vectorized\n",
    "from pyspark.ml.feature import VectorAssembler\n",
    "vecassembler = VectorAssembler(inputCols=[\"Consumo\",\"Cilindros\",\"Cilindradas\"], outputCol=\"vetor\")\n",
    "carros_vetor = vecassembler.transform(carros)\n",
    "carros_vetor.select(\"Consumo\",\"Cilindros\",\"Cilindradas\",\"vetor\").show()"
   ]
  },
  {
   "cell_type": "code",
   "execution_count": 6,
   "id": "3bdbfd46",
   "metadata": {},
   "outputs": [
    {
     "name": "stdout",
     "output_type": "stream",
     "text": [
      "+------------------+-----------------------------------------------+\n",
      "|vetor             |scaled                                         |\n",
      "+------------------+-----------------------------------------------+\n",
      "|[21.0,6.0,160.0]  |[0.061946902654867256,0.75,0.05801305293691081]|\n",
      "|[21.0,6.0,160.0]  |[0.061946902654867256,0.75,0.05801305293691081]|\n",
      "|[228.0,4.0,108.0] |[0.6725663716814159,0.5,0.0391588107324148]    |\n",
      "|[214.0,6.0,258.0] |[0.6312684365781711,0.75,0.09354604786076867]  |\n",
      "|[187.0,8.0,360.0] |[0.551622418879056,1.0,0.13052936910804933]    |\n",
      "|[181.0,6.0,225.0] |[0.5339233038348082,0.75,0.08158085569253082]  |\n",
      "|[143.0,8.0,360.0] |[0.4218289085545723,1.0,0.13052936910804933]   |\n",
      "|[244.0,4.0,1467.0]|[0.71976401179941,0.5,0.5319071791153009]      |\n",
      "|[228.0,4.0,1408.0]|[0.6725663716814159,0.5,0.5105148658448151]    |\n",
      "|[192.0,6.0,1676.0]|[0.5663716814159292,0.75,0.6076867295141407]   |\n",
      "|[178.0,6.0,1676.0]|[0.5250737463126843,0.75,0.6076867295141407]   |\n",
      "|[164.0,8.0,2758.0]|[0.4837758112094395,1.0,1.0]                   |\n",
      "|[173.0,8.0,2758.0]|[0.5103244837758112,1.0,1.0]                   |\n",
      "|[152.0,8.0,2758.0]|[0.44837758112094395,1.0,1.0]                  |\n",
      "|[104.0,8.0,472.0] |[0.30678466076696165,1.0,0.17113850616388687]  |\n",
      "|[104.0,8.0,460.0] |[0.30678466076696165,1.0,0.16678752719361856]  |\n",
      "|[147.0,8.0,440.0] |[0.4336283185840708,1.0,0.15953589557650472]   |\n",
      "|[324.0,4.0,787.0] |[0.9557522123893805,0.5,0.28535170413343003]   |\n",
      "|[304.0,4.0,757.0] |[0.8967551622418879,0.5,0.27447425670775927]   |\n",
      "|[339.0,4.0,711.0] |[1.0,0.5,0.2577955039883974]                   |\n",
      "+------------------+-----------------------------------------------+\n",
      "only showing top 20 rows\n",
      "\n"
     ]
    }
   ],
   "source": [
    "escala = MaxAbsScaler(inputCol=\"vetor\", outputCol=\"scaled\")\n",
    "modelo = escala.fit(carros_vetor)\n",
    "carrosabs = modelo.transform(carros_vetor)\n",
    "carrosabs.select(\"vetor\",\"scaled\").show(truncate=False)"
   ]
  },
  {
   "cell_type": "code",
   "execution_count": null,
   "id": "6c1816e1",
   "metadata": {},
   "outputs": [],
   "source": []
  }
 ],
 "metadata": {
  "kernelspec": {
   "display_name": "Python 3",
   "language": "python",
   "name": "python3"
  },
  "language_info": {
   "codemirror_mode": {
    "name": "ipython",
    "version": 3
   },
   "file_extension": ".py",
   "mimetype": "text/x-python",
   "name": "python",
   "nbconvert_exporter": "python",
   "pygments_lexer": "ipython3",
   "version": "3.8.8"
  }
 },
 "nbformat": 4,
 "nbformat_minor": 5
}
