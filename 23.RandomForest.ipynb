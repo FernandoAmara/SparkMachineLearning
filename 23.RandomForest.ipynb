{
 "cells": [
  {
   "cell_type": "markdown",
   "id": "59b44fc3-ff57-487a-ab33-615449f7e18a",
   "metadata": {},
   "source": [
    "##### Fernando Amaral\n",
    "##### RandomForest"
   ]
  },
  {
   "cell_type": "code",
   "execution_count": null,
   "id": "e06589b0-3e48-4175-bcdb-bf2f598c1248",
   "metadata": {},
   "outputs": [],
   "source": [
    "# RandomForest Example"
   ]
  },
  {
   "cell_type": "code",
   "execution_count": 1,
   "id": "ef24492c",
   "metadata": {},
   "outputs": [],
   "source": [
    "import findspark, pyspark\n",
    "from pyspark.sql import SparkSession\n",
    "findspark.init()\n",
    "spark = SparkSession.builder.appName(\"randomforest\").getOrCreate()"
   ]
  },
  {
   "cell_type": "code",
   "execution_count": 2,
   "id": "dbcd0547",
   "metadata": {},
   "outputs": [
    {
     "name": "stdout",
     "output_type": "stream",
     "text": [
      "+-------+---------+-----------+---------------+----+-----+---------+-----------+-------+-----------+---+\n",
      "|Consumo|Cilindros|Cilindradas|RelEixoTraseiro|Peso|Tempo|TipoMotor|Transmissao|Marchas|Carburadors| HP|\n",
      "+-------+---------+-----------+---------------+----+-----+---------+-----------+-------+-----------+---+\n",
      "|     21|        6|        160|             39| 262| 1646|        0|          1|      4|          4|110|\n",
      "|     21|        6|        160|             39|2875| 1702|        0|          1|      4|          4|110|\n",
      "|    228|        4|        108|            385| 232| 1861|        1|          1|      4|          1| 93|\n",
      "|    214|        6|        258|            308|3215| 1944|        1|          0|      3|          1|110|\n",
      "|    187|        8|        360|            315| 344| 1702|        0|          0|      3|          2|175|\n",
      "+-------+---------+-----------+---------------+----+-----+---------+-----------+-------+-----------+---+\n",
      "only showing top 5 rows\n",
      "\n"
     ]
    }
   ],
   "source": [
    "carros = spark.read.csv(\"Carros.csv\", header=True, inferSchema=True, sep=\";\")\n",
    "carros.show(5)"
   ]
  },
  {
   "cell_type": "code",
   "execution_count": 3,
   "id": "cee2fb86",
   "metadata": {},
   "outputs": [],
   "source": [
    "from pyspark.ml.regression import RandomForestRegressor"
   ]
  },
  {
   "cell_type": "code",
   "execution_count": 4,
   "id": "8ee4c82c",
   "metadata": {},
   "outputs": [
    {
     "name": "stdout",
     "output_type": "stream",
     "text": [
      "+-----------------+----------+\n",
      "|independente     |dependente|\n",
      "+-----------------+----------+\n",
      "|[21.0,6.0,160.0] |110.0     |\n",
      "|[21.0,6.0,160.0] |110.0     |\n",
      "|[228.0,4.0,108.0]|93.0      |\n",
      "|[214.0,6.0,258.0]|110.0     |\n",
      "|[187.0,8.0,360.0]|175.0     |\n",
      "+-----------------+----------+\n",
      "only showing top 5 rows\n",
      "\n"
     ]
    }
   ],
   "source": [
    "# we need a column with the features vectorized\n",
    "from pyspark.ml.feature import RFormula\n",
    "Rformula = RFormula(formula=\"HP ~ Consumo + Cilindros + Cilindradas\", featuresCol=\"independente\", labelCol=\"dependente\")\n",
    "carrosrf = Rformula.fit(carros).transform(carros)\n",
    "carrosrf.select(\"independente\", \"dependente\").show(5,truncate=False)"
   ]
  },
  {
   "cell_type": "code",
   "execution_count": 5,
   "id": "a8018a9e",
   "metadata": {},
   "outputs": [],
   "source": [
    "# data normalization\n",
    "from pyspark.ml.feature import Normalizer\n",
    "normalizador = Normalizer(inputCol=\"independente\",outputCol=\"independentenorm\", p=1.0)\n",
    "carrosnorm = normalizador.transform(carrosrf)"
   ]
  },
  {
   "cell_type": "code",
   "execution_count": 6,
   "id": "cf38d11b",
   "metadata": {},
   "outputs": [
    {
     "name": "stdout",
     "output_type": "stream",
     "text": [
      "+-----------------+----------+-------------------------------------------------------------+\n",
      "|independente     |dependente|independentenorm                                             |\n",
      "+-----------------+----------+-------------------------------------------------------------+\n",
      "|[21.0,6.0,160.0] |110.0     |[0.11229946524064172,0.03208556149732621,0.8556149732620321] |\n",
      "|[21.0,6.0,160.0] |110.0     |[0.11229946524064172,0.03208556149732621,0.8556149732620321] |\n",
      "|[228.0,4.0,108.0]|93.0      |[0.6705882352941176,0.011764705882352941,0.3176470588235294] |\n",
      "|[214.0,6.0,258.0]|110.0     |[0.4476987447698745,0.012552301255230125,0.5397489539748954] |\n",
      "|[187.0,8.0,360.0]|175.0     |[0.33693693693693694,0.014414414414414415,0.6486486486486487]|\n",
      "+-----------------+----------+-------------------------------------------------------------+\n",
      "only showing top 5 rows\n",
      "\n"
     ]
    }
   ],
   "source": [
    "carrosnorm.select(\"independente\",\"dependente\",\"independentenorm\").show(5,truncate=False)"
   ]
  },
  {
   "cell_type": "code",
   "execution_count": 7,
   "id": "cf2b45c2",
   "metadata": {},
   "outputs": [
    {
     "name": "stdout",
     "output_type": "stream",
     "text": [
      "24\n",
      "8\n"
     ]
    }
   ],
   "source": [
    "# split for train and test\n",
    "CarrosTreino, CarrosTeste = carrosnorm.randomSplit([0.7,0.3], seed=1)\n",
    "print(CarrosTreino.count())\n",
    "print(CarrosTeste.count())"
   ]
  },
  {
   "cell_type": "code",
   "execution_count": 8,
   "id": "4d9fd37a",
   "metadata": {},
   "outputs": [],
   "source": [
    "# create the model and fit it\n",
    "rf = RandomForestRegressor(featuresCol=\"independentenorm\", labelCol=\"dependente\", maxDepth=10, \n",
    "                          numTrees=500, seed=20)\n",
    "modelo = rf.fit(CarrosTreino)"
   ]
  },
  {
   "cell_type": "code",
   "execution_count": 9,
   "id": "37b8b0c9",
   "metadata": {},
   "outputs": [
    {
     "name": "stdout",
     "output_type": "stream",
     "text": [
      "+----------+------------------+\n",
      "|dependente|        prediction|\n",
      "+----------+------------------+\n",
      "|     215.0|            175.44|\n",
      "|     205.0|            175.44|\n",
      "|     180.0|           158.596|\n",
      "|     180.0|           158.596|\n",
      "|     123.0|           125.568|\n",
      "|     105.0| 167.3863333333333|\n",
      "|     175.0|169.75033333333332|\n",
      "|     113.0|           114.878|\n",
      "+----------+------------------+\n",
      "\n"
     ]
    }
   ],
   "source": [
    "# predict\n",
    "previsao = modelo.transform(CarrosTeste)\n",
    "previsao.select(\"dependente\",\"prediction\").show()"
   ]
  },
  {
   "cell_type": "code",
   "execution_count": 10,
   "id": "f7616362",
   "metadata": {},
   "outputs": [
    {
     "name": "stdout",
     "output_type": "stream",
     "text": [
      "30.176117889170413\n"
     ]
    }
   ],
   "source": [
    "# evaluate\n",
    "from pyspark.ml.evaluation import RegressionEvaluator\n",
    "avaliar = RegressionEvaluator(predictionCol=\"prediction\", labelCol=\"dependente\",metricName=\"rmse\")\n",
    "rmse = avaliar.evaluate(previsao)\n",
    "print(rmse)"
   ]
  },
  {
   "cell_type": "code",
   "execution_count": null,
   "id": "ff34fcb5",
   "metadata": {},
   "outputs": [],
   "source": []
  }
 ],
 "metadata": {
  "kernelspec": {
   "display_name": "Python 3",
   "language": "python",
   "name": "python3"
  },
  "language_info": {
   "codemirror_mode": {
    "name": "ipython",
    "version": 3
   },
   "file_extension": ".py",
   "mimetype": "text/x-python",
   "name": "python",
   "nbconvert_exporter": "python",
   "pygments_lexer": "ipython3",
   "version": "3.8.8"
  }
 },
 "nbformat": 4,
 "nbformat_minor": 5
}
