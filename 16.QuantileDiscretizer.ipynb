{
 "cells": [
  {
   "cell_type": "markdown",
   "id": "bcce8c9f-053b-4fdf-ba6b-512e0148b630",
   "metadata": {},
   "source": [
    "##### Fernando Amaral\n",
    "##### QuantileDiscretizer "
   ]
  },
  {
   "cell_type": "code",
   "execution_count": null,
   "id": "3914df98-a431-4225-b51b-0249aa672f37",
   "metadata": {},
   "outputs": [],
   "source": [
    "# transformation of continuous data into discrete data"
   ]
  },
  {
   "cell_type": "code",
   "execution_count": 1,
   "id": "6272038d",
   "metadata": {},
   "outputs": [],
   "source": [
    "import findspark, pyspark\n",
    "from pyspark.sql import SparkSession\n",
    "findspark.init()\n",
    "spark = SparkSession.builder.appName(\"standardscaler\").getOrCreate()"
   ]
  },
  {
   "cell_type": "code",
   "execution_count": 2,
   "id": "e7ae6b10",
   "metadata": {},
   "outputs": [],
   "source": [
    "from pyspark.ml.feature import QuantileDiscretizer"
   ]
  },
  {
   "cell_type": "code",
   "execution_count": 3,
   "id": "9b6e6c5a",
   "metadata": {},
   "outputs": [
    {
     "name": "stdout",
     "output_type": "stream",
     "text": [
      "+-----------+---------+------+---+------+--------+-------------+---------+--------------+---------------+------+\n",
      "|CreditScore|Geography|Gender|Age|Tenure| Balance|NumOfProducts|HasCrCard|IsActiveMember|EstimatedSalary|Exited|\n",
      "+-----------+---------+------+---+------+--------+-------------+---------+--------------+---------------+------+\n",
      "|        619|   France|Female| 42|     2|       0|            1|        1|             1|       10134888|     1|\n",
      "|        608|    Spain|Female| 41|     1| 8380786|            1|        0|             1|       11254258|     0|\n",
      "|        502|   France|Female| 42|     8| 1596608|            3|        1|             0|       11393157|     1|\n",
      "|        699|   France|Female| 39|     1|       0|            2|        0|             0|        9382663|     0|\n",
      "|        850|    Spain|Female| 43|     2|12551082|            1|        1|             1|         790841|     0|\n",
      "+-----------+---------+------+---+------+--------+-------------+---------+--------------+---------------+------+\n",
      "only showing top 5 rows\n",
      "\n"
     ]
    }
   ],
   "source": [
    "churn = spark.read.csv(\"Churn.csv\", header=True, inferSchema=True, sep=\";\")\n",
    "churn.show(5)"
   ]
  },
  {
   "cell_type": "code",
   "execution_count": 4,
   "id": "33465dfd",
   "metadata": {},
   "outputs": [
    {
     "name": "stdout",
     "output_type": "stream",
     "text": [
      "+------+-------+\n",
      "|Tenure|discret|\n",
      "+------+-------+\n",
      "|     2|    1.0|\n",
      "|     1|    0.0|\n",
      "|     8|    3.0|\n",
      "|     1|    0.0|\n",
      "|     2|    1.0|\n",
      "|     8|    3.0|\n",
      "|     7|    3.0|\n",
      "|     4|    1.0|\n",
      "|     4|    1.0|\n",
      "|     2|    1.0|\n",
      "|     6|    2.0|\n",
      "|     3|    1.0|\n",
      "|    10|    3.0|\n",
      "|     5|    2.0|\n",
      "|     7|    3.0|\n",
      "|     3|    1.0|\n",
      "|     1|    0.0|\n",
      "|     9|    3.0|\n",
      "|     6|    2.0|\n",
      "|     6|    2.0|\n",
      "+------+-------+\n",
      "only showing top 20 rows\n",
      "\n"
     ]
    }
   ],
   "source": [
    "# buckets: how many discrete values will be used \n",
    "discret = QuantileDiscretizer(numBuckets=4, inputCol=\"Tenure\", outputCol=\"discret\")\n",
    "despacdisc = discret.fit(churn).transform(churn)\n",
    "despacdisc .select(\"Tenure\",\"discret\").show()"
   ]
  },
  {
   "cell_type": "code",
   "execution_count": null,
   "id": "8d3e9219",
   "metadata": {},
   "outputs": [],
   "source": []
  }
 ],
 "metadata": {
  "kernelspec": {
   "display_name": "Python 3",
   "language": "python",
   "name": "python3"
  },
  "language_info": {
   "codemirror_mode": {
    "name": "ipython",
    "version": 3
   },
   "file_extension": ".py",
   "mimetype": "text/x-python",
   "name": "python",
   "nbconvert_exporter": "python",
   "pygments_lexer": "ipython3",
   "version": "3.8.8"
  }
 },
 "nbformat": 4,
 "nbformat_minor": 5
}
