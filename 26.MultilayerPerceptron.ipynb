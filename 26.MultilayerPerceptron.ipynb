{
 "cells": [
  {
   "cell_type": "markdown",
   "id": "bac5784c-b08e-41cb-b9c3-aa38df98424c",
   "metadata": {},
   "source": [
    "##### Fernando Amaral\n",
    "##### MultilayerPerceptronClassifier"
   ]
  },
  {
   "cell_type": "code",
   "execution_count": null,
   "id": "2d9ec10e-3952-43ea-a581-36713cd9407c",
   "metadata": {},
   "outputs": [],
   "source": [
    "# Multilayer Perceptron Example"
   ]
  },
  {
   "cell_type": "code",
   "execution_count": 1,
   "id": "4c43cad0",
   "metadata": {},
   "outputs": [],
   "source": [
    "import findspark, pyspark\n",
    "from pyspark.sql import SparkSession\n",
    "findspark.init()\n",
    "spark = SparkSession.builder.appName(\"mlp\").getOrCreate()"
   ]
  },
  {
   "cell_type": "code",
   "execution_count": 2,
   "id": "c71962bb",
   "metadata": {},
   "outputs": [
    {
     "name": "stdout",
     "output_type": "stream",
     "text": [
      "+-----------+----------+-----------+----------+-----------+\n",
      "|sepallength|sepalwidth|petallength|petalwidth|      class|\n",
      "+-----------+----------+-----------+----------+-----------+\n",
      "|        5.1|       3.5|        1.4|       0.2|Iris-setosa|\n",
      "|        4.9|       3.0|        1.4|       0.2|Iris-setosa|\n",
      "|        4.7|       3.2|        1.3|       0.2|Iris-setosa|\n",
      "|        4.6|       3.1|        1.5|       0.2|Iris-setosa|\n",
      "|        5.0|       3.6|        1.4|       0.2|Iris-setosa|\n",
      "+-----------+----------+-----------+----------+-----------+\n",
      "only showing top 5 rows\n",
      "\n"
     ]
    }
   ],
   "source": [
    "iris = spark.read.csv(\"iris.csv\", header=True, inferSchema=True, sep=\",\")\n",
    "iris.show(5)"
   ]
  },
  {
   "cell_type": "code",
   "execution_count": 5,
   "id": "5384a9b7",
   "metadata": {},
   "outputs": [
    {
     "name": "stdout",
     "output_type": "stream",
     "text": [
      "+-----------+----------+-----------+----------+-----------+-----------------+\n",
      "|sepallength|sepalwidth|petallength|petalwidth|      class|     independente|\n",
      "+-----------+----------+-----------+----------+-----------+-----------------+\n",
      "|        5.1|       3.5|        1.4|       0.2|Iris-setosa|[5.1,3.5,1.4,0.2]|\n",
      "|        4.9|       3.0|        1.4|       0.2|Iris-setosa|[4.9,3.0,1.4,0.2]|\n",
      "|        4.7|       3.2|        1.3|       0.2|Iris-setosa|[4.7,3.2,1.3,0.2]|\n",
      "|        4.6|       3.1|        1.5|       0.2|Iris-setosa|[4.6,3.1,1.5,0.2]|\n",
      "|        5.0|       3.6|        1.4|       0.2|Iris-setosa|[5.0,3.6,1.4,0.2]|\n",
      "+-----------+----------+-----------+----------+-----------+-----------------+\n",
      "only showing top 5 rows\n",
      "\n"
     ]
    }
   ],
   "source": [
    "# we need a column with the features vectorized\n",
    "from pyspark.ml.feature import VectorAssembler\n",
    "asb = VectorAssembler(inputCols=[\"sepallength\",\"sepalwidth\",\"petallength\",\"petalwidth\"], outputCol=\"independente\")\n",
    "irisas = asb.transform(iris)\n",
    "irisas.show(5)"
   ]
  },
  {
   "cell_type": "code",
   "execution_count": 6,
   "id": "eeaee5f0",
   "metadata": {},
   "outputs": [
    {
     "name": "stdout",
     "output_type": "stream",
     "text": [
      "+-----------+----------+-----------+----------+-----------+-----------------+----------+\n",
      "|sepallength|sepalwidth|petallength|petalwidth|      class|     independente|dependente|\n",
      "+-----------+----------+-----------+----------+-----------+-----------------+----------+\n",
      "|        5.1|       3.5|        1.4|       0.2|Iris-setosa|[5.1,3.5,1.4,0.2]|       0.0|\n",
      "|        4.9|       3.0|        1.4|       0.2|Iris-setosa|[4.9,3.0,1.4,0.2]|       0.0|\n",
      "|        4.7|       3.2|        1.3|       0.2|Iris-setosa|[4.7,3.2,1.3,0.2]|       0.0|\n",
      "|        4.6|       3.1|        1.5|       0.2|Iris-setosa|[4.6,3.1,1.5,0.2]|       0.0|\n",
      "|        5.0|       3.6|        1.4|       0.2|Iris-setosa|[5.0,3.6,1.4,0.2]|       0.0|\n",
      "+-----------+----------+-----------+----------+-----------+-----------------+----------+\n",
      "only showing top 5 rows\n",
      "\n"
     ]
    }
   ],
   "source": [
    "# transform class to a index (number)\n",
    "from pyspark.ml.feature import StringIndexer\n",
    "ind = StringIndexer(inputCol=\"class\",outputCol=\"dependente\")\n",
    "irisas = ind.fit(irisas).transform(irisas)\n",
    "irisas.show(5)"
   ]
  },
  {
   "cell_type": "code",
   "execution_count": 7,
   "id": "2975da8c",
   "metadata": {},
   "outputs": [
    {
     "name": "stdout",
     "output_type": "stream",
     "text": [
      "98\n",
      "52\n"
     ]
    }
   ],
   "source": [
    "# train test split\n",
    "irisTreino, irisTeste = irisas.randomSplit([0.7,0.3])\n",
    "print(irisTreino.count())\n",
    "print(irisTeste.count())"
   ]
  },
  {
   "cell_type": "code",
   "execution_count": 9,
   "id": "a9a8be82",
   "metadata": {},
   "outputs": [],
   "source": [
    "# fit our model\n",
    "# 4 layers \n",
    "from pyspark.ml.classification import MultilayerPerceptronClassifier\n",
    "mlp = MultilayerPerceptronClassifier(maxIter=10, layers=[4,5,4,3], featuresCol=\"independente\", labelCol=\"dependente\")\n",
    "modelo = mlp.fit(irisTreino)"
   ]
  },
  {
   "cell_type": "code",
   "execution_count": 10,
   "id": "c2894ed5",
   "metadata": {},
   "outputs": [
    {
     "name": "stdout",
     "output_type": "stream",
     "text": [
      "+----------+----------+\n",
      "|dependente|prediction|\n",
      "+----------+----------+\n",
      "|       0.0|       0.0|\n",
      "|       0.0|       0.0|\n",
      "|       0.0|       0.0|\n",
      "|       2.0|       2.0|\n",
      "|       0.0|       0.0|\n",
      "+----------+----------+\n",
      "only showing top 5 rows\n",
      "\n"
     ]
    }
   ],
   "source": [
    "# predict\n",
    "previsao = modelo.transform(irisTeste)\n",
    "previsao.select(\"dependente\",\"prediction\").show(5)"
   ]
  },
  {
   "cell_type": "code",
   "execution_count": 14,
   "id": "679baed2",
   "metadata": {},
   "outputs": [
    {
     "name": "stdout",
     "output_type": "stream",
     "text": [
      "0.6153846153846154\n"
     ]
    }
   ],
   "source": [
    "# evaluate\n",
    "from pyspark.ml.evaluation import MulticlassClassificationEvaluator\n",
    "performance = MulticlassClassificationEvaluator(labelCol=\"dependente\", predictionCol=\"prediction\", metricName=\"accuracy\")\n",
    "acuracia = performance.evaluate(previsao)\n",
    "print(acuracia)"
   ]
  },
  {
   "cell_type": "code",
   "execution_count": 15,
   "id": "ae6b69ea",
   "metadata": {},
   "outputs": [
    {
     "name": "stdout",
     "output_type": "stream",
     "text": [
      "10\n",
      "[4, 5, 4, 3]\n",
      "0.03\n"
     ]
    }
   ],
   "source": [
    "# read hyper parameters\n",
    "print(modelo.getMaxIter())\n",
    "print(modelo.getLayers())\n",
    "print(modelo.getStepSize())"
   ]
  },
  {
   "cell_type": "code",
   "execution_count": 16,
   "id": "23764ccc",
   "metadata": {},
   "outputs": [],
   "source": [
    "# set hyper parameter\n",
    "parunico = {modelo.maxIter: 1000}"
   ]
  },
  {
   "cell_type": "code",
   "execution_count": 17,
   "id": "fa196b91",
   "metadata": {},
   "outputs": [],
   "source": [
    "# new fit\n",
    "modelo = mlp.fit(irisTreino, parunico)"
   ]
  },
  {
   "cell_type": "code",
   "execution_count": 18,
   "id": "53899e35",
   "metadata": {},
   "outputs": [
    {
     "name": "stdout",
     "output_type": "stream",
     "text": [
      "1000\n",
      "[4, 5, 4, 3]\n",
      "0.03\n"
     ]
    }
   ],
   "source": [
    "# check hyper parameters again\n",
    "print(modelo.getMaxIter())\n",
    "print(modelo.getLayers())\n",
    "print(modelo.getStepSize())"
   ]
  },
  {
   "cell_type": "code",
   "execution_count": 19,
   "id": "a976924a",
   "metadata": {},
   "outputs": [
    {
     "name": "stdout",
     "output_type": "stream",
     "text": [
      "+----------+----------+\n",
      "|dependente|prediction|\n",
      "+----------+----------+\n",
      "|       0.0|       0.0|\n",
      "|       0.0|       0.0|\n",
      "|       0.0|       0.0|\n",
      "|       2.0|       2.0|\n",
      "|       0.0|       0.0|\n",
      "+----------+----------+\n",
      "only showing top 5 rows\n",
      "\n"
     ]
    }
   ],
   "source": [
    "# predict\n",
    "previsao = modelo.transform(irisTeste)\n",
    "previsao.select(\"dependente\",\"prediction\").show(5)"
   ]
  },
  {
   "cell_type": "code",
   "execution_count": 20,
   "id": "7afbc383",
   "metadata": {},
   "outputs": [
    {
     "name": "stdout",
     "output_type": "stream",
     "text": [
      "0.9423076923076923\n"
     ]
    }
   ],
   "source": [
    "# evaluate\n",
    "performance = MulticlassClassificationEvaluator(labelCol=\"dependente\", predictionCol=\"prediction\", metricName=\"accuracy\")\n",
    "acuracia = performance.evaluate(previsao)\n",
    "print(acuracia)"
   ]
  },
  {
   "cell_type": "code",
   "execution_count": null,
   "id": "5e95d6d3",
   "metadata": {},
   "outputs": [],
   "source": []
  }
 ],
 "metadata": {
  "kernelspec": {
   "display_name": "Python 3",
   "language": "python",
   "name": "python3"
  },
  "language_info": {
   "codemirror_mode": {
    "name": "ipython",
    "version": 3
   },
   "file_extension": ".py",
   "mimetype": "text/x-python",
   "name": "python",
   "nbconvert_exporter": "python",
   "pygments_lexer": "ipython3",
   "version": "3.8.8"
  }
 },
 "nbformat": 4,
 "nbformat_minor": 5
}
