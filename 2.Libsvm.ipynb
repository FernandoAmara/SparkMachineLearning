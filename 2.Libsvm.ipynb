{
 "cells": [
  {
   "cell_type": "markdown",
   "id": "4f3f9d3b-7a24-487b-9e92-c2ea81315c27",
   "metadata": {},
   "source": [
    "##### Fernando Amaral\n",
    "##### Libsvm"
   ]
  },
  {
   "cell_type": "code",
   "execution_count": null,
   "id": "01ae7053-c3d8-442a-be09-31e9bb0b5e20",
   "metadata": {},
   "outputs": [],
   "source": [
    "# libsvm import example"
   ]
  },
  {
   "cell_type": "code",
   "execution_count": 2,
   "id": "394c0118",
   "metadata": {},
   "outputs": [],
   "source": [
    "import findspark, pyspark\n",
    "from pyspark.sql import SparkSession\n",
    "findspark.init()\n",
    "spark = SparkSession.builder.appName(\"libsvm\").getOrCreate()"
   ]
  },
  {
   "cell_type": "code",
   "execution_count": 4,
   "id": "cfa246bc",
   "metadata": {},
   "outputs": [
    {
     "name": "stdout",
     "output_type": "stream",
     "text": [
      "+-----+-------------------------------+\n",
      "|label|features                       |\n",
      "+-----+-------------------------------+\n",
      "|0.0  |(4,[0,2,3],[5.1,1.4,0.2])      |\n",
      "|0.0  |(4,[0,1,2,3],[4.9,3.0,1.4,0.2])|\n",
      "|0.0  |(4,[0,1,2,3],[4.7,3.2,1.3,0.2])|\n",
      "|0.0  |(4,[1,2,3],[3.1,1.5,0.2])      |\n",
      "|0.0  |(4,[0,1,2,3],[5.0,3.6,1.4,0.2])|\n",
      "|0.0  |(4,[0,1,2,3],[5.4,3.9,1.7,0.4])|\n",
      "|0.0  |(4,[0,1,2,3],[4.6,3.4,1.4,0.3])|\n",
      "|0.0  |(4,[0,1,2,3],[5.0,3.4,1.5,0.2])|\n",
      "|0.0  |(4,[0,1,2,3],[4.4,2.9,1.4,0.2])|\n",
      "|0.0  |(4,[3],[0.1])                  |\n",
      "+-----+-------------------------------+\n",
      "only showing top 10 rows\n",
      "\n"
     ]
    }
   ],
   "source": [
    "dados = spark.read.format(\"libsvm\").option(\"numFeatures\",\"4\").load(\"iris_libsvm.txt\")\n",
    "dados.show(10, truncate=False)"
   ]
  },
  {
   "cell_type": "code",
   "execution_count": null,
   "id": "fd165c99",
   "metadata": {},
   "outputs": [],
   "source": []
  }
 ],
 "metadata": {
  "kernelspec": {
   "display_name": "Python 3",
   "language": "python",
   "name": "python3"
  },
  "language_info": {
   "codemirror_mode": {
    "name": "ipython",
    "version": 3
   },
   "file_extension": ".py",
   "mimetype": "text/x-python",
   "name": "python",
   "nbconvert_exporter": "python",
   "pygments_lexer": "ipython3",
   "version": "3.8.8"
  }
 },
 "nbformat": 4,
 "nbformat_minor": 5
}
