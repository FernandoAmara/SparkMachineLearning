{
 "cells": [
  {
   "cell_type": "markdown",
   "id": "bd6f2072-7686-4441-bdf8-28acd1c2b378",
   "metadata": {},
   "source": [
    "##### Fernando Amaral\n",
    "##### StandardScaler "
   ]
  },
  {
   "cell_type": "code",
   "execution_count": null,
   "id": "99362b31-0bbc-4f91-8702-051ca622e0f8",
   "metadata": {},
   "outputs": [],
   "source": [
    "# Normalizes features to standard deviation or zero mean."
   ]
  },
  {
   "cell_type": "code",
   "execution_count": 1,
   "id": "efe1959a",
   "metadata": {},
   "outputs": [],
   "source": [
    "import findspark, pyspark\n",
    "from pyspark.sql import SparkSession\n",
    "findspark.init()\n",
    "spark = SparkSession.builder.appName(\"standardscaler\").getOrCreate()"
   ]
  },
  {
   "cell_type": "code",
   "execution_count": 2,
   "id": "55db1d46",
   "metadata": {},
   "outputs": [],
   "source": [
    "from pyspark.ml.feature import StandardScaler"
   ]
  },
  {
   "cell_type": "code",
   "execution_count": 3,
   "id": "35bff019",
   "metadata": {},
   "outputs": [
    {
     "name": "stdout",
     "output_type": "stream",
     "text": [
      "+-------+---------+-----------+---------------+----+-----+---------+-----------+-------+-----------+---+\n",
      "|Consumo|Cilindros|Cilindradas|RelEixoTraseiro|Peso|Tempo|TipoMotor|Transmissao|Marchas|Carburadors| HP|\n",
      "+-------+---------+-----------+---------------+----+-----+---------+-----------+-------+-----------+---+\n",
      "|     21|        6|        160|             39| 262| 1646|        0|          1|      4|          4|110|\n",
      "|     21|        6|        160|             39|2875| 1702|        0|          1|      4|          4|110|\n",
      "|    228|        4|        108|            385| 232| 1861|        1|          1|      4|          1| 93|\n",
      "|    214|        6|        258|            308|3215| 1944|        1|          0|      3|          1|110|\n",
      "|    187|        8|        360|            315| 344| 1702|        0|          0|      3|          2|175|\n",
      "+-------+---------+-----------+---------------+----+-----+---------+-----------+-------+-----------+---+\n",
      "only showing top 5 rows\n",
      "\n"
     ]
    }
   ],
   "source": [
    "carros = spark.read.csv(\"Carros.csv\", header=True, inferSchema=True, sep=\";\")\n",
    "carros.show(5)"
   ]
  },
  {
   "cell_type": "code",
   "execution_count": 4,
   "id": "3fe772a8",
   "metadata": {},
   "outputs": [
    {
     "name": "stdout",
     "output_type": "stream",
     "text": [
      "+-------+---------+-----------+------------------+\n",
      "|Consumo|Cilindros|Cilindradas|            Matriz|\n",
      "+-------+---------+-----------+------------------+\n",
      "|     21|        6|        160|  [21.0,6.0,160.0]|\n",
      "|     21|        6|        160|  [21.0,6.0,160.0]|\n",
      "|    228|        4|        108| [228.0,4.0,108.0]|\n",
      "|    214|        6|        258| [214.0,6.0,258.0]|\n",
      "|    187|        8|        360| [187.0,8.0,360.0]|\n",
      "|    181|        6|        225| [181.0,6.0,225.0]|\n",
      "|    143|        8|        360| [143.0,8.0,360.0]|\n",
      "|    244|        4|       1467|[244.0,4.0,1467.0]|\n",
      "|    228|        4|       1408|[228.0,4.0,1408.0]|\n",
      "|    192|        6|       1676|[192.0,6.0,1676.0]|\n",
      "|    178|        6|       1676|[178.0,6.0,1676.0]|\n",
      "|    164|        8|       2758|[164.0,8.0,2758.0]|\n",
      "|    173|        8|       2758|[173.0,8.0,2758.0]|\n",
      "|    152|        8|       2758|[152.0,8.0,2758.0]|\n",
      "|    104|        8|        472| [104.0,8.0,472.0]|\n",
      "|    104|        8|        460| [104.0,8.0,460.0]|\n",
      "|    147|        8|        440| [147.0,8.0,440.0]|\n",
      "|    324|        4|        787| [324.0,4.0,787.0]|\n",
      "|    304|        4|        757| [304.0,4.0,757.0]|\n",
      "|    339|        4|        711| [339.0,4.0,711.0]|\n",
      "+-------+---------+-----------+------------------+\n",
      "only showing top 20 rows\n",
      "\n"
     ]
    }
   ],
   "source": [
    "# create a new column with features vectorized\n",
    "# StandardScaler need this column as input\n",
    "from pyspark.ml.feature import VectorAssembler\n",
    "vecassembler = VectorAssembler(inputCols=[\"Consumo\",\"Cilindros\",\"Cilindradas\"], outputCol=\"Matriz\")\n",
    "carros_vetor = vecassembler.transform(carros)\n",
    "carros_vetor.select(\"Consumo\",\"Cilindros\",\"Cilindradas\",\"Matriz\").show()"
   ]
  },
  {
   "cell_type": "code",
   "execution_count": 5,
   "id": "7ffa0f60",
   "metadata": {},
   "outputs": [
    {
     "name": "stdout",
     "output_type": "stream",
     "text": [
      "+------------------+-----------------------------------------------------------+\n",
      "|Matriz            |standard                                                   |\n",
      "+------------------+-----------------------------------------------------------+\n",
      "|[21.0,6.0,160.0]  |[0.24996122082808128,3.359609874407659,0.20137542427273997]|\n",
      "|[21.0,6.0,160.0]  |[0.24996122082808128,3.359609874407659,0.20137542427273997]|\n",
      "|[228.0,4.0,108.0] |[2.713864683276311,2.239739916271773,0.13592841138409947]  |\n",
      "|[214.0,6.0,258.0] |[2.5472238693909235,3.359609874407659,0.32471787163979315] |\n",
      "|[187.0,8.0,360.0] |[2.2258451568976763,4.479479832543546,0.4530947046136649]  |\n",
      "|[181.0,6.0,225.0] |[2.15442766523251,3.359609874407659,0.28318419038354053]   |\n",
      "|[143.0,8.0,360.0] |[1.7021168846864583,4.479479832543546,0.4530947046136649]  |\n",
      "|[244.0,4.0,1467.0]|[2.904311327716754,2.239739916271773,1.8463609213006844]   |\n",
      "|[228.0,4.0,1408.0]|[2.713864683276311,2.239739916271773,1.7721037336001115]   |\n",
      "|[192.0,6.0,1676.0]|[2.2853597332853144,3.359609874407659,2.109407569256951]   |\n",
      "|[178.0,6.0,1676.0]|[2.118718919399927,3.359609874407659,2.109407569256951]    |\n",
      "|[164.0,8.0,2758.0]|[1.9520781055145395,4.479479832543546,3.471208875901355]   |\n",
      "|[173.0,8.0,2758.0]|[2.0592043430122886,4.479479832543546,3.471208875901355]   |\n",
      "|[152.0,8.0,2758.0]|[1.8092431221842074,4.479479832543546,3.471208875901355]   |\n",
      "|[104.0,8.0,472.0] |[1.2379031888628786,4.479479832543546,0.5940575016045828]  |\n",
      "|[104.0,8.0,460.0] |[1.2379031888628786,4.479479832543546,0.5789543447841273]  |\n",
      "|[147.0,8.0,440.0] |[1.749728545796569,4.479479832543546,0.5537824167500349]   |\n",
      "|[324.0,4.0,787.0] |[3.856544549918968,2.239739916271773,0.9905153681415396]   |\n",
      "|[304.0,4.0,757.0] |[3.6184862443684147,2.239739916271773,0.952757476090401]   |\n",
      "|[339.0,4.0,711.0] |[4.035088279081884,2.239739916271773,0.8948620416119881]   |\n",
      "+------------------+-----------------------------------------------------------+\n",
      "only showing top 20 rows\n",
      "\n"
     ]
    }
   ],
   "source": [
    "# withStd: transforms the data to the standard deviation \n",
    "# withMean: Before transforming, centralizes data by average\n",
    "escala = StandardScaler(inputCol=\"Matriz\", outputCol=\"standard\", withStd=True, withMean=False)\n",
    "modelo = escala.fit(carros_vetor)\n",
    "carrosstandard = modelo.transform(carros_vetor)\n",
    "carrosstandard.select(\"Matriz\",\"standard\").show(truncate=False)"
   ]
  },
  {
   "cell_type": "code",
   "execution_count": null,
   "id": "8756e324",
   "metadata": {},
   "outputs": [],
   "source": []
  }
 ],
 "metadata": {
  "kernelspec": {
   "display_name": "Python 3",
   "language": "python",
   "name": "python3"
  },
  "language_info": {
   "codemirror_mode": {
    "name": "ipython",
    "version": 3
   },
   "file_extension": ".py",
   "mimetype": "text/x-python",
   "name": "python",
   "nbconvert_exporter": "python",
   "pygments_lexer": "ipython3",
   "version": "3.8.8"
  }
 },
 "nbformat": 4,
 "nbformat_minor": 5
}
