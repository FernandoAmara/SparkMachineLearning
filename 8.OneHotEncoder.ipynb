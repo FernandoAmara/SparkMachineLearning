{
 "cells": [
  {
   "cell_type": "markdown",
   "id": "8dfc7381-4a0f-40be-8e01-d9daf3e89c57",
   "metadata": {},
   "source": [
    "##### Fernando Amaral\n",
    "##### OneHotEncoder"
   ]
  },
  {
   "cell_type": "code",
   "execution_count": null,
   "id": "c2e06758-5318-4860-b818-1a26e61827bb",
   "metadata": {},
   "outputs": [],
   "source": [
    "# onehtoencoder\n",
    "# create a sparse vector as output"
   ]
  },
  {
   "cell_type": "code",
   "execution_count": 1,
   "id": "820ab0e2",
   "metadata": {},
   "outputs": [],
   "source": [
    "import findspark, pyspark\n",
    "from pyspark.sql import SparkSession\n",
    "findspark.init()\n",
    "spark = SparkSession.builder.appName(\"onehot\").getOrCreate()"
   ]
  },
  {
   "cell_type": "code",
   "execution_count": 2,
   "id": "b654ff16",
   "metadata": {},
   "outputs": [],
   "source": [
    "from pyspark.ml.feature import OneHotEncoder"
   ]
  },
  {
   "cell_type": "code",
   "execution_count": 3,
   "id": "f28f3da9",
   "metadata": {},
   "outputs": [
    {
     "name": "stdout",
     "output_type": "stream",
     "text": [
      "+-----------+---------+------+---+------+--------+-------------+---------+--------------+---------------+------+\n",
      "|CreditScore|Geography|Gender|Age|Tenure| Balance|NumOfProducts|HasCrCard|IsActiveMember|EstimatedSalary|Exited|\n",
      "+-----------+---------+------+---+------+--------+-------------+---------+--------------+---------------+------+\n",
      "|        619|   France|Female| 42|     2|       0|            1|        1|             1|       10134888|     1|\n",
      "|        608|    Spain|Female| 41|     1| 8380786|            1|        0|             1|       11254258|     0|\n",
      "|        502|   France|Female| 42|     8| 1596608|            3|        1|             0|       11393157|     1|\n",
      "|        699|   France|Female| 39|     1|       0|            2|        0|             0|        9382663|     0|\n",
      "|        850|    Spain|Female| 43|     2|12551082|            1|        1|             1|         790841|     0|\n",
      "+-----------+---------+------+---+------+--------+-------------+---------+--------------+---------------+------+\n",
      "only showing top 5 rows\n",
      "\n"
     ]
    }
   ],
   "source": [
    "churn = spark.read.load(\"Churn.csv\", format=\"csv\", sep=\";\", inferSchema=True, header=True)\n",
    "churn.show(5)"
   ]
  },
  {
   "cell_type": "code",
   "execution_count": 5,
   "id": "0f8a0423",
   "metadata": {},
   "outputs": [],
   "source": [
    "from pyspark.ml.feature import StringIndexer\n",
    "\n",
    "indice = StringIndexer(inputCol=\"Geography\", outputCol=\"Indexer_c1\")\n",
    "indiceonehot = indice.fit(churn).transform(churn)\n",
    "\n",
    "indice = StringIndexer(inputCol=\"Gender\", outputCol=\"Indexer_c2\")\n",
    "indiceonehot = indice.fit(indiceonehot).transform(indiceonehot)"
   ]
  },
  {
   "cell_type": "code",
   "execution_count": 6,
   "id": "1b7dcb63",
   "metadata": {},
   "outputs": [
    {
     "name": "stdout",
     "output_type": "stream",
     "text": [
      "+----------+----------+\n",
      "|Indexer_c1|Indexer_c1|\n",
      "+----------+----------+\n",
      "|       0.0|       0.0|\n",
      "|       2.0|       2.0|\n",
      "|       0.0|       0.0|\n",
      "|       0.0|       0.0|\n",
      "|       2.0|       2.0|\n",
      "|       2.0|       2.0|\n",
      "|       0.0|       0.0|\n",
      "|       1.0|       1.0|\n",
      "|       0.0|       0.0|\n",
      "|       0.0|       0.0|\n",
      "|       0.0|       0.0|\n",
      "|       2.0|       2.0|\n",
      "|       0.0|       0.0|\n",
      "|       0.0|       0.0|\n",
      "|       2.0|       2.0|\n",
      "|       1.0|       1.0|\n",
      "|       1.0|       1.0|\n",
      "|       2.0|       2.0|\n",
      "|       2.0|       2.0|\n",
      "|       0.0|       0.0|\n",
      "+----------+----------+\n",
      "only showing top 20 rows\n",
      "\n"
     ]
    }
   ],
   "source": [
    "indiceonehot.select(\"Indexer_c1\",\"Indexer_c1\").show()"
   ]
  },
  {
   "cell_type": "code",
   "execution_count": 7,
   "id": "417e8a58",
   "metadata": {},
   "outputs": [
    {
     "name": "stdout",
     "output_type": "stream",
     "text": [
      "+-------------+-------------+\n",
      "|onehot_c1    |onehot_c2    |\n",
      "+-------------+-------------+\n",
      "|(2,[0],[1.0])|(2,[0],[1.0])|\n",
      "|(2,[],[])    |(2,[],[])    |\n",
      "|(2,[0],[1.0])|(2,[0],[1.0])|\n",
      "|(2,[0],[1.0])|(2,[0],[1.0])|\n",
      "|(2,[],[])    |(2,[],[])    |\n",
      "|(2,[],[])    |(2,[],[])    |\n",
      "|(2,[0],[1.0])|(2,[0],[1.0])|\n",
      "|(2,[1],[1.0])|(2,[1],[1.0])|\n",
      "|(2,[0],[1.0])|(2,[0],[1.0])|\n",
      "|(2,[0],[1.0])|(2,[0],[1.0])|\n",
      "|(2,[0],[1.0])|(2,[0],[1.0])|\n",
      "|(2,[],[])    |(2,[],[])    |\n",
      "|(2,[0],[1.0])|(2,[0],[1.0])|\n",
      "|(2,[0],[1.0])|(2,[0],[1.0])|\n",
      "|(2,[],[])    |(2,[],[])    |\n",
      "|(2,[1],[1.0])|(2,[1],[1.0])|\n",
      "|(2,[1],[1.0])|(2,[1],[1.0])|\n",
      "|(2,[],[])    |(2,[],[])    |\n",
      "|(2,[],[])    |(2,[],[])    |\n",
      "|(2,[0],[1.0])|(2,[0],[1.0])|\n",
      "+-------------+-------------+\n",
      "only showing top 20 rows\n",
      "\n"
     ]
    }
   ],
   "source": [
    "onehot = OneHotEncoder(inputCols=[\"Indexer_c1\",\"Indexer_c1\"], outputCols=[\"onehot_c1\",\"onehot_c2\"])\n",
    "modelo = onehot.fit(indiceonehot)\n",
    "onehotout = modelo.transform(indiceonehot)\n",
    "onehotout.select(\"onehot_c1\",\"onehot_c2\").show(truncate=False)"
   ]
  },
  {
   "cell_type": "code",
   "execution_count": null,
   "id": "d5a1a1a1",
   "metadata": {},
   "outputs": [],
   "source": []
  }
 ],
 "metadata": {
  "kernelspec": {
   "display_name": "Python 3",
   "language": "python",
   "name": "python3"
  },
  "language_info": {
   "codemirror_mode": {
    "name": "ipython",
    "version": 3
   },
   "file_extension": ".py",
   "mimetype": "text/x-python",
   "name": "python",
   "nbconvert_exporter": "python",
   "pygments_lexer": "ipython3",
   "version": "3.8.8"
  }
 },
 "nbformat": 4,
 "nbformat_minor": 5
}
