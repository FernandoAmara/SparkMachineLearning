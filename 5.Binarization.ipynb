{
 "cells": [
  {
   "cell_type": "markdown",
   "id": "3527e6c6-dd53-4476-a822-fa63f0c7a276",
   "metadata": {},
   "source": [
    "##### Fernando Amaral\n",
    "##### Binarizer"
   ]
  },
  {
   "cell_type": "code",
   "execution_count": null,
   "id": "a818c9e3-081b-4f1a-825a-ba9ff653d4a6",
   "metadata": {},
   "outputs": [],
   "source": [
    "# transforma a feature into zero or 1"
   ]
  },
  {
   "cell_type": "code",
   "execution_count": 1,
   "id": "25b07d57",
   "metadata": {},
   "outputs": [],
   "source": [
    "import findspark, pyspark\n",
    "from pyspark.sql import SparkSession\n",
    "findspark.init()\n",
    "spark = SparkSession.builder.appName(\"binarizacao\").getOrCreate()"
   ]
  },
  {
   "cell_type": "code",
   "execution_count": 3,
   "id": "f86d359a",
   "metadata": {},
   "outputs": [],
   "source": [
    "from pyspark.ml.feature import Binarizer"
   ]
  },
  {
   "cell_type": "code",
   "execution_count": 4,
   "id": "75e52381",
   "metadata": {},
   "outputs": [
    {
     "name": "stdout",
     "output_type": "stream",
     "text": [
      "+-----------+----------+-----------+----------+-----------+\n",
      "|sepallength|sepalwidth|petallength|petalwidth|      class|\n",
      "+-----------+----------+-----------+----------+-----------+\n",
      "|        5.1|       3.5|        1.4|       0.2|Iris-setosa|\n",
      "|        4.9|       3.0|        1.4|       0.2|Iris-setosa|\n",
      "|        4.7|       3.2|        1.3|       0.2|Iris-setosa|\n",
      "|        4.6|       3.1|        1.5|       0.2|Iris-setosa|\n",
      "|        5.0|       3.6|        1.4|       0.2|Iris-setosa|\n",
      "+-----------+----------+-----------+----------+-----------+\n",
      "only showing top 5 rows\n",
      "\n"
     ]
    }
   ],
   "source": [
    "iris = spark.read.csv(\"iris.csv\", header=True, inferSchema=True)\n",
    "iris.show(5)"
   ]
  },
  {
   "cell_type": "code",
   "execution_count": 5,
   "id": "b07e94a2",
   "metadata": {},
   "outputs": [],
   "source": [
    "binarizer = Binarizer(threshold=5, inputCol=\"sepallength\", outputCol=\"sepallength_bin\")"
   ]
  },
  {
   "cell_type": "code",
   "execution_count": 6,
   "id": "9747ed0b",
   "metadata": {},
   "outputs": [
    {
     "name": "stdout",
     "output_type": "stream",
     "text": [
      "+-----------+----------+-----------+----------+-----------+---------------+\n",
      "|sepallength|sepalwidth|petallength|petalwidth|      class|sepallength_bin|\n",
      "+-----------+----------+-----------+----------+-----------+---------------+\n",
      "|        5.1|       3.5|        1.4|       0.2|Iris-setosa|            1.0|\n",
      "|        4.9|       3.0|        1.4|       0.2|Iris-setosa|            0.0|\n",
      "|        4.7|       3.2|        1.3|       0.2|Iris-setosa|            0.0|\n",
      "|        4.6|       3.1|        1.5|       0.2|Iris-setosa|            0.0|\n",
      "|        5.0|       3.6|        1.4|       0.2|Iris-setosa|            0.0|\n",
      "|        5.4|       3.9|        1.7|       0.4|Iris-setosa|            1.0|\n",
      "|        4.6|       3.4|        1.4|       0.3|Iris-setosa|            0.0|\n",
      "|        5.0|       3.4|        1.5|       0.2|Iris-setosa|            0.0|\n",
      "|        4.4|       2.9|        1.4|       0.2|Iris-setosa|            0.0|\n",
      "|        4.9|       3.1|        1.5|       0.1|Iris-setosa|            0.0|\n",
      "|        5.4|       3.7|        1.5|       0.2|Iris-setosa|            1.0|\n",
      "|        4.8|       3.4|        1.6|       0.2|Iris-setosa|            0.0|\n",
      "|        4.8|       3.0|        1.4|       0.1|Iris-setosa|            0.0|\n",
      "|        4.3|       3.0|        1.1|       0.1|Iris-setosa|            0.0|\n",
      "|        5.8|       4.0|        1.2|       0.2|Iris-setosa|            1.0|\n",
      "|        5.7|       4.4|        1.5|       0.4|Iris-setosa|            1.0|\n",
      "|        5.4|       3.9|        1.3|       0.4|Iris-setosa|            1.0|\n",
      "|        5.1|       3.5|        1.4|       0.3|Iris-setosa|            1.0|\n",
      "|        5.7|       3.8|        1.7|       0.3|Iris-setosa|            1.0|\n",
      "|        5.1|       3.8|        1.5|       0.3|Iris-setosa|            1.0|\n",
      "+-----------+----------+-----------+----------+-----------+---------------+\n",
      "only showing top 20 rows\n",
      "\n"
     ]
    }
   ],
   "source": [
    "irisbin = binarizer.transform(iris)\n",
    "irisbin.show()"
   ]
  },
  {
   "cell_type": "code",
   "execution_count": null,
   "id": "8d407407",
   "metadata": {},
   "outputs": [],
   "source": []
  }
 ],
 "metadata": {
  "kernelspec": {
   "display_name": "Python 3",
   "language": "python",
   "name": "python3"
  },
  "language_info": {
   "codemirror_mode": {
    "name": "ipython",
    "version": 3
   },
   "file_extension": ".py",
   "mimetype": "text/x-python",
   "name": "python",
   "nbconvert_exporter": "python",
   "pygments_lexer": "ipython3",
   "version": "3.8.8"
  }
 },
 "nbformat": 4,
 "nbformat_minor": 5
}
